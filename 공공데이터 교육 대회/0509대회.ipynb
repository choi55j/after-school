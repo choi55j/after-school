{
 "cells": [
  {
   "cell_type": "code",
   "execution_count": 42,
   "id": "96fb53fc",
   "metadata": {},
   "outputs": [
    {
     "data": {
      "text/html": [
       "<div>\n",
       "<style scoped>\n",
       "    .dataframe tbody tr th:only-of-type {\n",
       "        vertical-align: middle;\n",
       "    }\n",
       "\n",
       "    .dataframe tbody tr th {\n",
       "        vertical-align: top;\n",
       "    }\n",
       "\n",
       "    .dataframe thead th {\n",
       "        text-align: right;\n",
       "    }\n",
       "</style>\n",
       "<table border=\"1\" class=\"dataframe\">\n",
       "  <thead>\n",
       "    <tr style=\"text-align: right;\">\n",
       "      <th></th>\n",
       "      <th>학교명</th>\n",
       "      <th>설립별</th>\n",
       "      <th>지역별</th>\n",
       "      <th>교외장학금 소계(원)</th>\n",
       "      <th>교외장학금 국가</th>\n",
       "      <th>교외장학금 지방자치단체</th>\n",
       "      <th>교외장학금 사설및기타</th>\n",
       "      <th>교내장학금 소계(원)</th>\n",
       "      <th>교내장학금 성적우수장학금</th>\n",
       "      <th>교내장학금 저소득층장학금</th>\n",
       "      <th>교내장학금 근로장학금</th>\n",
       "      <th>교내장학금 재난장학금</th>\n",
       "      <th>교내장학금 교직원장학금</th>\n",
       "      <th>교내장학금 기타장학금</th>\n",
       "      <th>총계(원)</th>\n",
       "      <th>Unnamed: 15</th>\n",
       "    </tr>\n",
       "  </thead>\n",
       "  <tbody>\n",
       "    <tr>\n",
       "      <th>0</th>\n",
       "      <td>ICT폴리텍대학</td>\n",
       "      <td>사립</td>\n",
       "      <td>경기</td>\n",
       "      <td>462312000</td>\n",
       "      <td>280892000</td>\n",
       "      <td>0</td>\n",
       "      <td>181420000</td>\n",
       "      <td>101728000</td>\n",
       "      <td>33524000</td>\n",
       "      <td>68204000</td>\n",
       "      <td>0</td>\n",
       "      <td>0</td>\n",
       "      <td>0</td>\n",
       "      <td>0</td>\n",
       "      <td>564040000</td>\n",
       "      <td>NaN</td>\n",
       "    </tr>\n",
       "    <tr>\n",
       "      <th>1</th>\n",
       "      <td>가야대학교(김해)</td>\n",
       "      <td>사립</td>\n",
       "      <td>경남</td>\n",
       "      <td>4752931433</td>\n",
       "      <td>4701192873</td>\n",
       "      <td>5438560</td>\n",
       "      <td>46300000</td>\n",
       "      <td>2034070722</td>\n",
       "      <td>592548990</td>\n",
       "      <td>835240270</td>\n",
       "      <td>117497462</td>\n",
       "      <td>0</td>\n",
       "      <td>14248000</td>\n",
       "      <td>474536000</td>\n",
       "      <td>6787002155</td>\n",
       "      <td>NaN</td>\n",
       "    </tr>\n",
       "    <tr>\n",
       "      <th>2</th>\n",
       "      <td>가천대학교</td>\n",
       "      <td>사립</td>\n",
       "      <td>경기</td>\n",
       "      <td>40024949259</td>\n",
       "      <td>38565866879</td>\n",
       "      <td>97550440</td>\n",
       "      <td>1361531940</td>\n",
       "      <td>27726101831</td>\n",
       "      <td>6279840000</td>\n",
       "      <td>7994354780</td>\n",
       "      <td>1445094011</td>\n",
       "      <td>5000000</td>\n",
       "      <td>159614000</td>\n",
       "      <td>11842199040</td>\n",
       "      <td>67751051090</td>\n",
       "      <td>NaN</td>\n",
       "    </tr>\n",
       "    <tr>\n",
       "      <th>3</th>\n",
       "      <td>가톨릭관동대학교</td>\n",
       "      <td>사립</td>\n",
       "      <td>강원</td>\n",
       "      <td>18657900192</td>\n",
       "      <td>17562903302</td>\n",
       "      <td>430489570</td>\n",
       "      <td>664507320</td>\n",
       "      <td>6033026062</td>\n",
       "      <td>2045134790</td>\n",
       "      <td>405631500</td>\n",
       "      <td>236506774</td>\n",
       "      <td>0</td>\n",
       "      <td>139239500</td>\n",
       "      <td>3206513498</td>\n",
       "      <td>24690926254</td>\n",
       "      <td>NaN</td>\n",
       "    </tr>\n",
       "    <tr>\n",
       "      <th>4</th>\n",
       "      <td>가톨릭꽃동네대학교</td>\n",
       "      <td>사립</td>\n",
       "      <td>충북</td>\n",
       "      <td>1653654391</td>\n",
       "      <td>1572115751</td>\n",
       "      <td>2330640</td>\n",
       "      <td>79208000</td>\n",
       "      <td>593521770</td>\n",
       "      <td>96244000</td>\n",
       "      <td>207192000</td>\n",
       "      <td>125041136</td>\n",
       "      <td>0</td>\n",
       "      <td>3309000</td>\n",
       "      <td>161735634</td>\n",
       "      <td>2247176161</td>\n",
       "      <td>NaN</td>\n",
       "    </tr>\n",
       "    <tr>\n",
       "      <th>...</th>\n",
       "      <td>...</td>\n",
       "      <td>...</td>\n",
       "      <td>...</td>\n",
       "      <td>...</td>\n",
       "      <td>...</td>\n",
       "      <td>...</td>\n",
       "      <td>...</td>\n",
       "      <td>...</td>\n",
       "      <td>...</td>\n",
       "      <td>...</td>\n",
       "      <td>...</td>\n",
       "      <td>...</td>\n",
       "      <td>...</td>\n",
       "      <td>...</td>\n",
       "      <td>...</td>\n",
       "      <td>...</td>\n",
       "    </tr>\n",
       "    <tr>\n",
       "      <th>382</th>\n",
       "      <td>호서대학교</td>\n",
       "      <td>사립</td>\n",
       "      <td>충남</td>\n",
       "      <td>28966536086</td>\n",
       "      <td>28201647866</td>\n",
       "      <td>475156680</td>\n",
       "      <td>289731540</td>\n",
       "      <td>15178879121</td>\n",
       "      <td>4422236200</td>\n",
       "      <td>3416107900</td>\n",
       "      <td>1873684248</td>\n",
       "      <td>0</td>\n",
       "      <td>100771000</td>\n",
       "      <td>5366079773</td>\n",
       "      <td>44145415207</td>\n",
       "      <td>NaN</td>\n",
       "    </tr>\n",
       "    <tr>\n",
       "      <th>383</th>\n",
       "      <td>호원대학교</td>\n",
       "      <td>사립</td>\n",
       "      <td>전북</td>\n",
       "      <td>16846877719</td>\n",
       "      <td>16766637439</td>\n",
       "      <td>38828280</td>\n",
       "      <td>41412000</td>\n",
       "      <td>6801314141</td>\n",
       "      <td>1181016900</td>\n",
       "      <td>98288000</td>\n",
       "      <td>223946596</td>\n",
       "      <td>3939650</td>\n",
       "      <td>135273000</td>\n",
       "      <td>5158849995</td>\n",
       "      <td>23648191860</td>\n",
       "      <td>NaN</td>\n",
       "    </tr>\n",
       "    <tr>\n",
       "      <th>384</th>\n",
       "      <td>홍익대학교</td>\n",
       "      <td>사립</td>\n",
       "      <td>서울</td>\n",
       "      <td>33593060677</td>\n",
       "      <td>32583356967</td>\n",
       "      <td>50567180</td>\n",
       "      <td>959136530</td>\n",
       "      <td>37266046466</td>\n",
       "      <td>17648206300</td>\n",
       "      <td>8743546200</td>\n",
       "      <td>4354288864</td>\n",
       "      <td>0</td>\n",
       "      <td>77652000</td>\n",
       "      <td>6442353102</td>\n",
       "      <td>70859107143</td>\n",
       "      <td>NaN</td>\n",
       "    </tr>\n",
       "    <tr>\n",
       "      <th>385</th>\n",
       "      <td>화성의과학대학교</td>\n",
       "      <td>사립</td>\n",
       "      <td>경기</td>\n",
       "      <td>85584436</td>\n",
       "      <td>72067036</td>\n",
       "      <td>6816400</td>\n",
       "      <td>6701000</td>\n",
       "      <td>297480174</td>\n",
       "      <td>105328000</td>\n",
       "      <td>78350250</td>\n",
       "      <td>9148564</td>\n",
       "      <td>0</td>\n",
       "      <td>0</td>\n",
       "      <td>104653360</td>\n",
       "      <td>383064610</td>\n",
       "      <td>NaN</td>\n",
       "    </tr>\n",
       "    <tr>\n",
       "      <th>386</th>\n",
       "      <td>화신사이버대학교</td>\n",
       "      <td>사립</td>\n",
       "      <td>부산</td>\n",
       "      <td>3511804582</td>\n",
       "      <td>3510804582</td>\n",
       "      <td>0</td>\n",
       "      <td>1000000</td>\n",
       "      <td>587156618</td>\n",
       "      <td>0</td>\n",
       "      <td>178815000</td>\n",
       "      <td>7358618</td>\n",
       "      <td>0</td>\n",
       "      <td>53445000</td>\n",
       "      <td>347538000</td>\n",
       "      <td>4098961200</td>\n",
       "      <td>NaN</td>\n",
       "    </tr>\n",
       "  </tbody>\n",
       "</table>\n",
       "<p>387 rows × 16 columns</p>\n",
       "</div>"
      ],
      "text/plain": [
       "           학교명 설립별 지역별  교외장학금 소계(원)     교외장학금 국가  교외장학금 지방자치단체  교외장학금 사설및기타  \\\n",
       "0     ICT폴리텍대학  사립  경기    462312000    280892000             0    181420000   \n",
       "1    가야대학교(김해)  사립  경남   4752931433   4701192873       5438560     46300000   \n",
       "2        가천대학교  사립  경기  40024949259  38565866879      97550440   1361531940   \n",
       "3     가톨릭관동대학교  사립  강원  18657900192  17562903302     430489570    664507320   \n",
       "4    가톨릭꽃동네대학교  사립  충북   1653654391   1572115751       2330640     79208000   \n",
       "..         ...  ..  ..          ...          ...           ...          ...   \n",
       "382      호서대학교  사립  충남  28966536086  28201647866     475156680    289731540   \n",
       "383      호원대학교  사립  전북  16846877719  16766637439      38828280     41412000   \n",
       "384      홍익대학교  사립  서울  33593060677  32583356967      50567180    959136530   \n",
       "385   화성의과학대학교  사립  경기     85584436     72067036       6816400      6701000   \n",
       "386   화신사이버대학교  사립  부산   3511804582   3510804582             0      1000000   \n",
       "\n",
       "     교내장학금 소계(원)  교내장학금 성적우수장학금  교내장학금 저소득층장학금  교내장학금 근로장학금  교내장학금 재난장학금  \\\n",
       "0      101728000       33524000       68204000            0            0   \n",
       "1     2034070722      592548990      835240270    117497462            0   \n",
       "2    27726101831     6279840000     7994354780   1445094011      5000000   \n",
       "3     6033026062     2045134790      405631500    236506774            0   \n",
       "4      593521770       96244000      207192000    125041136            0   \n",
       "..           ...            ...            ...          ...          ...   \n",
       "382  15178879121     4422236200     3416107900   1873684248            0   \n",
       "383   6801314141     1181016900       98288000    223946596      3939650   \n",
       "384  37266046466    17648206300     8743546200   4354288864            0   \n",
       "385    297480174      105328000       78350250      9148564            0   \n",
       "386    587156618              0      178815000      7358618            0   \n",
       "\n",
       "     교내장학금 교직원장학금  교내장학금 기타장학금        총계(원)  Unnamed: 15  \n",
       "0               0            0    564040000          NaN  \n",
       "1        14248000    474536000   6787002155          NaN  \n",
       "2       159614000  11842199040  67751051090          NaN  \n",
       "3       139239500   3206513498  24690926254          NaN  \n",
       "4         3309000    161735634   2247176161          NaN  \n",
       "..            ...          ...          ...          ...  \n",
       "382     100771000   5366079773  44145415207          NaN  \n",
       "383     135273000   5158849995  23648191860          NaN  \n",
       "384      77652000   6442353102  70859107143          NaN  \n",
       "385             0    104653360    383064610          NaN  \n",
       "386      53445000    347538000   4098961200          NaN  \n",
       "\n",
       "[387 rows x 16 columns]"
      ]
     },
     "execution_count": 42,
     "metadata": {},
     "output_type": "execute_result"
    }
   ],
   "source": [
    "import pandas as pd\n",
    "import numpy as np\n",
    "import matplotlib.pyplot as plt\n",
    "import seaborn as sns\n",
    "plt.rcParams['font.family'] ='Malgun Gothic'\n",
    "plt.rcParams['axes.unicode_minus'] =False\n",
    "data = pd.read_csv(\"장학1.csv\", encoding='cp949')\n",
    "data"
   ]
  },
  {
   "cell_type": "code",
   "execution_count": 10,
   "id": "8a2ab346",
   "metadata": {},
   "outputs": [
    {
     "data": {
      "text/plain": [
       "학교명              64\n",
       "설립별              64\n",
       "지역별              64\n",
       "교외장학금 소계(원)      64\n",
       "교외장학금 국가         64\n",
       "교외장학금 지방자치단체     64\n",
       "교외장학금 사설및기타      64\n",
       "교내장학금 소계(원)      64\n",
       "교내장학금 성적우수장학금    64\n",
       "교내장학금 저소득층장학금    64\n",
       "교내장학금 근로장학금      64\n",
       "교내장학금 재난장학금      64\n",
       "교내장학금 교직원장학금     64\n",
       "교내장학금 기타장학금      64\n",
       "총계(원)            64\n",
       "Unnamed: 15       0\n",
       "dtype: int64"
      ]
     },
     "execution_count": 10,
     "metadata": {},
     "output_type": "execute_result"
    }
   ],
   "source": [
    "data[data['지역별']=='경기'].count()"
   ]
  },
  {
   "cell_type": "code",
   "execution_count": 11,
   "id": "e0a76a77",
   "metadata": {},
   "outputs": [
    {
     "data": {
      "text/plain": [
       "학교명              62\n",
       "설립별              62\n",
       "지역별              62\n",
       "교외장학금 소계(원)      62\n",
       "교외장학금 국가         62\n",
       "교외장학금 지방자치단체     62\n",
       "교외장학금 사설및기타      62\n",
       "교내장학금 소계(원)      62\n",
       "교내장학금 성적우수장학금    62\n",
       "교내장학금 저소득층장학금    62\n",
       "교내장학금 근로장학금      62\n",
       "교내장학금 재난장학금      62\n",
       "교내장학금 교직원장학금     62\n",
       "교내장학금 기타장학금      62\n",
       "총계(원)            62\n",
       "Unnamed: 15       0\n",
       "dtype: int64"
      ]
     },
     "execution_count": 11,
     "metadata": {},
     "output_type": "execute_result"
    }
   ],
   "source": [
    "data[data['지역별']=='서울'].count()"
   ]
  },
  {
   "cell_type": "code",
   "execution_count": 35,
   "id": "95fa1c17",
   "metadata": {},
   "outputs": [
    {
     "data": {
      "text/plain": [
       "학교명              330\n",
       "설립별              330\n",
       "지역별              330\n",
       "교외장학금 소계(원)      330\n",
       "교외장학금 국가         330\n",
       "교외장학금 지방자치단체     330\n",
       "교외장학금 사설및기타      330\n",
       "교내장학금 소계(원)      330\n",
       "교내장학금 성적우수장학금    330\n",
       "교내장학금 저소득층장학금    330\n",
       "교내장학금 근로장학금      330\n",
       "교내장학금 재난장학금      330\n",
       "교내장학금 교직원장학금     330\n",
       "교내장학금 기타장학금      330\n",
       "총계(원)            330\n",
       "Unnamed: 15        0\n",
       "dtype: int64"
      ]
     },
     "execution_count": 35,
     "metadata": {},
     "output_type": "execute_result"
    }
   ],
   "source": [
    "data[data['설립별']=='사립'].count()"
   ]
  },
  {
   "cell_type": "code",
   "execution_count": 34,
   "id": "b6cdf4fd",
   "metadata": {},
   "outputs": [
    {
     "data": {
      "text/plain": [
       "학교명              57\n",
       "설립별              57\n",
       "지역별              57\n",
       "교외장학금 소계(원)      57\n",
       "교외장학금 국가         57\n",
       "교외장학금 지방자치단체     57\n",
       "교외장학금 사설및기타      57\n",
       "교내장학금 소계(원)      57\n",
       "교내장학금 성적우수장학금    57\n",
       "교내장학금 저소득층장학금    57\n",
       "교내장학금 근로장학금      57\n",
       "교내장학금 재난장학금      57\n",
       "교내장학금 교직원장학금     57\n",
       "교내장학금 기타장학금      57\n",
       "총계(원)            57\n",
       "Unnamed: 15       0\n",
       "dtype: int64"
      ]
     },
     "execution_count": 34,
     "metadata": {},
     "output_type": "execute_result"
    }
   ],
   "source": [
    "data[data['설립별']=='국공립'].count()"
   ]
  },
  {
   "cell_type": "code",
   "execution_count": 36,
   "id": "91bcc816",
   "metadata": {},
   "outputs": [
    {
     "data": {
      "text/plain": [
       "array(['경기', '경남', '강원', '충북', '경북', '서울', '충남', '대전', '부산', '대구', '인천',\n",
       "       '전남', '세종', '광주', '전북', '울산', '제주'], dtype=object)"
      ]
     },
     "execution_count": 36,
     "metadata": {},
     "output_type": "execute_result"
    }
   ],
   "source": [
    "data['지역별'].unique()"
   ]
  },
  {
   "cell_type": "code",
   "execution_count": 37,
   "id": "32fd9cc4",
   "metadata": {},
   "outputs": [
    {
     "data": {
      "text/plain": [
       "경기    64\n",
       "서울    62\n",
       "경북    38\n",
       "충남    25\n",
       "부산    24\n",
       "경남    23\n",
       "강원    21\n",
       "전북    21\n",
       "충북    19\n",
       "전남    19\n",
       "광주    18\n",
       "대전    17\n",
       "대구    14\n",
       "인천     9\n",
       "울산     5\n",
       "제주     5\n",
       "세종     3\n",
       "Name: 지역별, dtype: int64"
      ]
     },
     "execution_count": 37,
     "metadata": {},
     "output_type": "execute_result"
    }
   ],
   "source": [
    "data['지역별'].value_counts()"
   ]
  },
  {
   "cell_type": "code",
   "execution_count": 52,
   "id": "f550e55e",
   "metadata": {},
   "outputs": [
    {
     "data": {
      "text/plain": [
       "<pandas.core.groupby.generic.DataFrameGroupBy object at 0x000001EFACE84250>"
      ]
     },
     "execution_count": 52,
     "metadata": {},
     "output_type": "execute_result"
    }
   ],
   "source": [
    "data.groupby('지역별')"
   ]
  },
  {
   "cell_type": "code",
   "execution_count": 63,
   "id": "77ae2692",
   "metadata": {},
   "outputs": [
    {
     "data": {
      "text/plain": [
       "387"
      ]
     },
     "execution_count": 63,
     "metadata": {},
     "output_type": "execute_result"
    }
   ],
   "source": [
    "len(data['지역별'])"
   ]
  },
  {
   "cell_type": "code",
   "execution_count": 65,
   "id": "065c00aa",
   "metadata": {
    "scrolled": false
   },
   "outputs": [
    {
     "data": {
      "text/plain": [
       "(array([87., 40., 38., 87., 17., 38., 28.,  3., 39., 10.]),\n",
       " array([ 0. ,  1.6,  3.2,  4.8,  6.4,  8. ,  9.6, 11.2, 12.8, 14.4, 16. ]),\n",
       " <BarContainer object of 10 artists>)"
      ]
     },
     "execution_count": 65,
     "metadata": {},
     "output_type": "execute_result"
    },
    {
     "data": {
      "image/png": "[encoded data removed]",
      "text/plain": [
       "<Figure size 640x480 with 1 Axes>"
      ]
     },
     "metadata": {},
     "output_type": "display_data"
    }
   ],
   "source": [
    "df = data['지역별']\n",
    "plt.hist(df)"
   ]
  },
  {
   "cell_type": "code",
   "execution_count": 61,
   "id": "4be86a12",
   "metadata": {},
   "outputs": [
    {
     "name": "stdout",
     "output_type": "stream",
     "text": [
      "<class 'pandas.core.frame.DataFrame'>\n",
      "RangeIndex: 387 entries, 0 to 386\n",
      "Data columns (total 16 columns):\n",
      " #   Column         Non-Null Count  Dtype  \n",
      "---  ------         --------------  -----  \n",
      " 0   학교명            387 non-null    object \n",
      " 1   설립별            387 non-null    object \n",
      " 2   지역별            387 non-null    object \n",
      " 3   교외장학금 소계(원)    387 non-null    int64  \n",
      " 4   교외장학금 국가       387 non-null    int64  \n",
      " 5   교외장학금 지방자치단체   387 non-null    int64  \n",
      " 6   교외장학금 사설및기타    387 non-null    int64  \n",
      " 7   교내장학금 소계(원)    387 non-null    int64  \n",
      " 8   교내장학금 성적우수장학금  387 non-null    int64  \n",
      " 9   교내장학금 저소득층장학금  387 non-null    int64  \n",
      " 10  교내장학금 근로장학금    387 non-null    int64  \n",
      " 11  교내장학금 재난장학금    387 non-null    int64  \n",
      " 12  교내장학금 교직원장학금   387 non-null    int64  \n",
      " 13  교내장학금 기타장학금    387 non-null    int64  \n",
      " 14  총계(원)          387 non-null    int64  \n",
      " 15  Unnamed: 15    0 non-null      float64\n",
      "dtypes: float64(1), int64(12), object(3)\n",
      "memory usage: 48.5+ KB\n"
     ]
    }
   ],
   "source": [
    "data.info()"
   ]
  },
  {
   "cell_type": "code",
   "execution_count": 67,
   "id": "14320510",
   "metadata": {},
   "outputs": [
    {
     "data": {
      "text/plain": [
       "0      경기\n",
       "1      경남\n",
       "2      경기\n",
       "3      강원\n",
       "4      충북\n",
       "       ..\n",
       "382    충남\n",
       "383    전북\n",
       "384    서울\n",
       "385    경기\n",
       "386    부산\n",
       "Name: 지역별, Length: 387, dtype: object"
      ]
     },
     "execution_count": 67,
     "metadata": {},
     "output_type": "execute_result"
    }
   ],
   "source": [
    "df"
   ]
  },
  {
   "cell_type": "code",
   "execution_count": 77,
   "id": "3388cd86",
   "metadata": {},
   "outputs": [
    {
     "data": {
      "text/plain": [
       "'ICT폴리텍대학'"
      ]
     },
     "execution_count": 77,
     "metadata": {},
     "output_type": "execute_result"
    }
   ],
   "source": [
    "data['학교명'][0]"
   ]
  },
  {
   "cell_type": "code",
   "execution_count": null,
   "id": "16b207e5",
   "metadata": {},
   "outputs": [],
   "source": []
  }
 ],
 "metadata": {
  "kernelspec": {
   "display_name": "Python 3 (ipykernel)",
   "language": "python",
   "name": "python3"
  },
  "language_info": {
   "codemirror_mode": {
    "name": "ipython",
    "version": 3
   },
   "file_extension": ".py",
   "mimetype": "text/x-python",
   "name": "python",
   "nbconvert_exporter": "python",
   "pygments_lexer": "ipython3",
   "version": "3.10.9"
  }
 },
 "nbformat": 4,
 "nbformat_minor": 5
}
