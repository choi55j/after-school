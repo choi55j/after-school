{
 "cells": [
  {
   "cell_type": "markdown",
   "id": "be6a8fe0",
   "metadata": {},
   "source": [
    "# DFS"
   ]
  },
  {
   "cell_type": "code",
   "execution_count": 13,
   "id": "3d67244c",
   "metadata": {},
   "outputs": [
    {
     "name": "stdout",
     "output_type": "stream",
     "text": [
      "<class 'list'>\n",
      "1 2 4 5 3 6 7 "
     ]
    }
   ],
   "source": [
    "graph = [\n",
    "    [],      # 0\n",
    "    [2, 3],  # 1 \n",
    "    [4, 5],  # 2\n",
    "    [6],     # 3\n",
    "    [2, 5],  # 4\n",
    "    [2, 4],  # 5\n",
    "    [3, 7],  # 6\n",
    "    [6]      # 7\n",
    "]\n",
    "\n",
    "# 방문 정보를 기록하기 위한 리스트\n",
    "visited = [False] * 8\n",
    "print(type(visited))\n",
    "\n",
    "def dfs(v):\n",
    "    # 방문 표시\n",
    "    visited[v] = True\n",
    "    print(v, end=' ')\n",
    "    # 그래프를 순환하면서 인접 노드들을 방문\n",
    "    for i in graph[v]:\n",
    "        # 만약 방문하지 않은 노드가 있다면\n",
    "        if not visited[i]:\n",
    "            # 탐색 시작\n",
    "            dfs(i)\n",
    "\n",
    "# 탐색 시작 노드 1을 넣어주며 dfs() 실행\n",
    "dfs(1)"
   ]
  },
  {
   "cell_type": "markdown",
   "id": "5de0efa9",
   "metadata": {},
   "source": [
    "# BFS"
   ]
  },
  {
   "cell_type": "code",
   "execution_count": 14,
   "id": "b12c059d",
   "metadata": {},
   "outputs": [
    {
     "name": "stdout",
     "output_type": "stream",
     "text": [
      "1 2 3 4 5 6 7 "
     ]
    }
   ],
   "source": [
    "from collections import deque\n",
    "\n",
    "graph = [\n",
    "    [],      # 0\n",
    "    [2, 3],  # 1 \n",
    "    [4, 5],  # 2\n",
    "    [6],     # 3\n",
    "    [2, 5],  # 4\n",
    "    [2, 4],  # 5\n",
    "    [3, 7],  # 6\n",
    "    [6]      # 7\n",
    "]\n",
    "\n",
    "visited = [False] * 8\n",
    "\n",
    "def bfs(v):\n",
    "    # 큐 생성 및 큐에 시작 노드 삽입\n",
    "    q = deque()\n",
    "    q.append(v)\n",
    "    # 아직 방문해야 하는 노드가 있다면\n",
    "    while q:\n",
    "        # 큐에서 노드를 꺼내서 x에 저장\n",
    "        x = q.popleft()\n",
    "        print(x, end=' ')\n",
    "        # 그래프를 탐색하다가 방문하지 않은 노드가 있다면\n",
    "        for i in graph[x]:\n",
    "            if not visited[i]:\n",
    "                # 큐에 방문하라고 삽입하고 방문 처리\n",
    "                q.append(i)\n",
    "                visited[i] = True\n",
    "\n",
    "bfs(1)"
   ]
  },
  {
   "cell_type": "markdown",
   "id": "c7c43880",
   "metadata": {},
   "source": [
    "# queue"
   ]
  },
  {
   "cell_type": "code",
   "execution_count": 16,
   "id": "c93192e7",
   "metadata": {},
   "outputs": [],
   "source": [
    "queue = [4,5,6]\n",
    "queue.append(7)\n",
    "queue.append(8)"
   ]
  },
  {
   "cell_type": "code",
   "execution_count": 17,
   "id": "9c34d96c",
   "metadata": {},
   "outputs": [
    {
     "data": {
      "text/plain": [
       "[4, 5, 6, 7, 8]"
      ]
     },
     "execution_count": 17,
     "metadata": {},
     "output_type": "execute_result"
    }
   ],
   "source": [
    "queue"
   ]
  },
  {
   "cell_type": "code",
   "execution_count": 18,
   "id": "1a4152b3",
   "metadata": {
    "scrolled": true
   },
   "outputs": [
    {
     "data": {
      "text/plain": [
       "4"
      ]
     },
     "execution_count": 18,
     "metadata": {},
     "output_type": "execute_result"
    }
   ],
   "source": [
    "queue.pop(0)"
   ]
  },
  {
   "cell_type": "code",
   "execution_count": 19,
   "id": "89685d1b",
   "metadata": {},
   "outputs": [
    {
     "data": {
      "text/plain": [
       "[5, 6, 7, 8]"
      ]
     },
     "execution_count": 19,
     "metadata": {},
     "output_type": "execute_result"
    }
   ],
   "source": [
    "queue"
   ]
  },
  {
   "cell_type": "code",
   "execution_count": 20,
   "id": "01790c21",
   "metadata": {},
   "outputs": [],
   "source": [
    "queue.insert(0,3)\n",
    "queue.insert(0,2)"
   ]
  },
  {
   "cell_type": "code",
   "execution_count": 22,
   "id": "6d42070b",
   "metadata": {
    "scrolled": true
   },
   "outputs": [
    {
     "data": {
      "text/plain": [
       "[2, 3, 5, 6, 7, 8]"
      ]
     },
     "execution_count": 22,
     "metadata": {},
     "output_type": "execute_result"
    }
   ],
   "source": [
    "queue"
   ]
  },
  {
   "cell_type": "markdown",
   "id": "9c1d6e43",
   "metadata": {},
   "source": [
    "거리 구하는 공식 루트 x제곱, y제곱"
   ]
  },
  {
   "cell_type": "code",
   "execution_count": 27,
   "id": "e296e4d0",
   "metadata": {},
   "outputs": [
    {
     "name": "stdout",
     "output_type": "stream",
     "text": [
      "5 5\n",
      "거리는 : 7.0710678118654755\n"
     ]
    }
   ],
   "source": [
    "import math\n",
    "x,y=map(int,input().split())\n",
    "\n",
    "print(f'거리는 : {math.sqrt((x**2)+(y**2))}')"
   ]
  },
  {
   "cell_type": "code",
   "execution_count": 28,
   "id": "82b10cfe",
   "metadata": {},
   "outputs": [
    {
     "name": "stdout",
     "output_type": "stream",
     "text": [
      "7.0710678118654755\n"
     ]
    }
   ],
   "source": [
    "def distance(x,y):\n",
    "    return math.sqrt((x**2)+(y**2))\n",
    "\n",
    "print(distance(5,5))"
   ]
  },
  {
   "cell_type": "code",
   "execution_count": 32,
   "id": "b3f25c07",
   "metadata": {},
   "outputs": [
    {
     "name": "stdout",
     "output_type": "stream",
     "text": [
      "4.242640687119286\n"
     ]
    }
   ],
   "source": [
    "def distance1(x1,y1):\n",
    "    return math.sqrt((x1**2)+(y1**2))\n",
    "\n",
    "print(distance(5,5)-distance1(2,2))"
   ]
  },
  {
   "cell_type": "code",
   "execution_count": 33,
   "id": "4be7b1f0",
   "metadata": {},
   "outputs": [
    {
     "name": "stdout",
     "output_type": "stream",
     "text": [
      "7.0710678118654755\n",
      "2.8284271247461903\n"
     ]
    }
   ],
   "source": [
    "print(distance(5,5))\n",
    "print(distance1(2,2))"
   ]
  },
  {
   "cell_type": "code",
   "execution_count": 35,
   "id": "18f86781",
   "metadata": {},
   "outputs": [
    {
     "name": "stdout",
     "output_type": "stream",
     "text": [
      "4.242640687119285\n"
     ]
    }
   ],
   "source": [
    "def 합(x1,y1,x2,y2):\n",
    "    return math.sqrt((x2-x1)**2+(y2-y1)**2)\n",
    "\n",
    "print(합(5,5,2,2))"
   ]
  }
 ],
 "metadata": {
  "kernelspec": {
   "display_name": "Python 3 (ipykernel)",
   "language": "python",
   "name": "python3"
  },
  "language_info": {
   "codemirror_mode": {
    "name": "ipython",
    "version": 3
   },
   "file_extension": ".py",
   "mimetype": "text/x-python",
   "name": "python",
   "nbconvert_exporter": "python",
   "pygments_lexer": "ipython3",
   "version": "3.10.9"
  }
 },
 "nbformat": 4,
 "nbformat_minor": 5
}
