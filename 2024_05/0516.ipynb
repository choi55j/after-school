{
 "cells": [
  {
   "cell_type": "code",
   "execution_count": 1,
   "id": "6cae858f",
   "metadata": {},
   "outputs": [],
   "source": [
    "class human:\n",
    "    def __init__(self, name,age): #human 클래스의 생성자 constructor\n",
    "        self.name = name\n",
    "        self.age = age\n",
    "        print(f'{self.name} 응애 응애')\n",
    "    def cry(self):\n",
    "        print(f'{self.name} 으앙 으앙')\n",
    "    def iam(self):\n",
    "        print(f'나는 {self.age}쨜')\n",
    "    def plus_age(self):\n",
    "        self.age = self.age+1\n",
    "        print(f'헉 나이 먹어서 {self.age}쨜이얌')\n",
    "    def change_name(self,new_name):\n",
    "        self.name = new_name\n",
    "        print(f'새로운 이름은 {self.name} 이야!')\n",
    "    def __del__(self):\n",
    "        print('kim은 죽었어!!')"
   ]
  },
  {
   "cell_type": "code",
   "execution_count": 2,
   "id": "58269d31",
   "metadata": {},
   "outputs": [
    {
     "name": "stdout",
     "output_type": "stream",
     "text": [
      "홍길동 응애 응애\n",
      "홍길동 으앙 으앙\n",
      "나는 19쨜\n",
      "헉 나이 먹어서 20쨜이얌\n",
      "새로운 이름은 홍성복 이야!\n"
     ]
    }
   ],
   "source": [
    "kim = human('홍길동',19)\n",
    "kim.cry()\n",
    "kim.iam()\n",
    "kim.plus_age()\n",
    "kim.change_name('홍성복')"
   ]
  },
  {
   "cell_type": "code",
   "execution_count": null,
   "id": "92a8391c",
   "metadata": {},
   "outputs": [],
   "source": [
    "del kim # 삭제 함수 __del__ 을 지정하여 삭제 될때 메세지 작성"
   ]
  },
  {
   "cell_type": "code",
   "execution_count": 3,
   "id": "62961bcf",
   "metadata": {},
   "outputs": [],
   "source": [
    "class student(human): # human을 상속 받음\n",
    "    pass"
   ]
  },
  {
   "cell_type": "code",
   "execution_count": 4,
   "id": "253f11a5",
   "metadata": {},
   "outputs": [
    {
     "name": "stdout",
     "output_type": "stream",
     "text": [
      "최수혁 응애 응애\n",
      "헉 나이 먹어서 19쨜이얌\n"
     ]
    }
   ],
   "source": [
    "s1 = student('최수혁',18)\n",
    "s1.plus_age()"
   ]
  },
  {
   "cell_type": "code",
   "execution_count": 5,
   "id": "f27679a7",
   "metadata": {},
   "outputs": [],
   "source": [
    "class teacher(human):\n",
    "    pass"
   ]
  },
  {
   "cell_type": "code",
   "execution_count": 6,
   "id": "b3bb64cf",
   "metadata": {},
   "outputs": [
    {
     "name": "stdout",
     "output_type": "stream",
     "text": [
      "김종순 응애 응애\n",
      "헉 나이 먹어서 82쨜이얌\n"
     ]
    }
   ],
   "source": [
    "t1 = teacher('김종순',81)\n",
    "t1.plus_age()"
   ]
  }
 ],
 "metadata": {
  "kernelspec": {
   "display_name": "Python 3 (ipykernel)",
   "language": "python",
   "name": "python3"
  },
  "language_info": {
   "codemirror_mode": {
    "name": "ipython",
    "version": 3
   },
   "file_extension": ".py",
   "mimetype": "text/x-python",
   "name": "python",
   "nbconvert_exporter": "python",
   "pygments_lexer": "ipython3",
   "version": "3.10.9"
  }
 },
 "nbformat": 4,
 "nbformat_minor": 5
}
