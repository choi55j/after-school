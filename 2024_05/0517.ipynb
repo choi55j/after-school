{
 "cells": [
  {
   "cell_type": "markdown",
   "id": "014f6936",
   "metadata": {},
   "source": [
    "# factorial"
   ]
  },
  {
   "cell_type": "code",
   "execution_count": 6,
   "id": "742a5167",
   "metadata": {},
   "outputs": [
    {
     "name": "stdout",
     "output_type": "stream",
     "text": [
      "5 + 4 + 3 + 2 + 1 + 결과 : 15\n"
     ]
    }
   ],
   "source": [
    "def factorial(n):\n",
    "    print(f'{n} + ',end = '')\n",
    "    if n == 1:\n",
    "        return 1\n",
    "    return n + factorial(n-1)\n",
    "\n",
    "print('결과 : ' + str(factorial(5)))"
   ]
  },
  {
   "cell_type": "markdown",
   "id": "3d967e6b",
   "metadata": {},
   "source": [
    "# 최수 공약수"
   ]
  },
  {
   "cell_type": "code",
   "execution_count": 3,
   "id": "d5a4301d",
   "metadata": {},
   "outputs": [
    {
     "name": "stdout",
     "output_type": "stream",
     "text": [
      "최대 공약수 : 5\n"
     ]
    }
   ],
   "source": [
    "def gcd(a,b):\n",
    "    i = min(a,b)\n",
    "    while True:\n",
    "        if a%i ==0 and b%i ==0:\n",
    "            return i\n",
    "        else:\n",
    "            i = i-1\n",
    "\n",
    "r = gcd(5,10)\n",
    "\n",
    "if r!=1:\n",
    "    print(f'최대 공약수 : {r}')\n",
    "else:\n",
    "    print(f'공약수 없다')"
   ]
  },
  {
   "cell_type": "markdown",
   "id": "ed9bc759",
   "metadata": {},
   "source": [
    "# 최소 공배수"
   ]
  },
  {
   "cell_type": "code",
   "execution_count": 5,
   "id": "f4b11619",
   "metadata": {},
   "outputs": [
    {
     "name": "stdout",
     "output_type": "stream",
     "text": [
      "최소 공배수 : 10\n"
     ]
    }
   ],
   "source": [
    "def rhd(a,b):\n",
    "    for i in range(max(a,b),(a*b)+1):\n",
    "        if i%a == 0 and i%b == 0:\n",
    "            return i\n",
    "        \n",
    "res = rhd(5,10)\n",
    "print(f'최소 공배수 : {res}')"
   ]
  }
 ],
 "metadata": {
  "kernelspec": {
   "display_name": "Python 3 (ipykernel)",
   "language": "python",
   "name": "python3"
  },
  "language_info": {
   "codemirror_mode": {
    "name": "ipython",
    "version": 3
   },
   "file_extension": ".py",
   "mimetype": "text/x-python",
   "name": "python",
   "nbconvert_exporter": "python",
   "pygments_lexer": "ipython3",
   "version": "3.10.9"
  }
 },
 "nbformat": 4,
 "nbformat_minor": 5
}
