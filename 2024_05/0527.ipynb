{
 "cells": [
  {
   "cell_type": "code",
   "execution_count": 67,
   "id": "137ad101",
   "metadata": {},
   "outputs": [
    {
     "name": "stdout",
     "output_type": "stream",
     "text": [
      "[11, 11, 11, 11, 11]\n"
     ]
    }
   ],
   "source": [
    "n = [1,2,3,4,5,6,7,8,9,10]\n",
    "a = []\n",
    "for i in range(1,6):\n",
    "    a.append(n[i-1]+n[-i])\n",
    "print(a)"
   ]
  },
  {
   "cell_type": "code",
   "execution_count": 55,
   "id": "7d8956dc",
   "metadata": {},
   "outputs": [
    {
     "name": "stdout",
     "output_type": "stream",
     "text": [
      "몇개 더할래? 15\n",
      "112\n"
     ]
    }
   ],
   "source": [
    "a = int(input('몇개 더할래? '))\n",
    "n = []\n",
    "b = []\n",
    "for i in range(1,a+1):\n",
    "    n.append(i)\n",
    "    \n",
    "for j in range(1,len(n)//2+1):\n",
    "    b.append(n[j-1]+n[-j])\n",
    "    \n",
    "print(sum(b))"
   ]
  },
  {
   "cell_type": "code",
   "execution_count": 56,
   "id": "0c2bd753",
   "metadata": {},
   "outputs": [],
   "source": [
    "f = open(\"hello.txt\",'w')"
   ]
  },
  {
   "cell_type": "code",
   "execution_count": 59,
   "id": "65650106",
   "metadata": {},
   "outputs": [
    {
     "name": "stdout",
     "output_type": "stream",
     "text": [
      "hello1.txt 파일이 없습니다.\n"
     ]
    }
   ],
   "source": [
    "try:\n",
    "    f = open(\"hello1.txt\",'r')\n",
    "except:\n",
    "    print('hello1.txt 파일이 없습니다.')"
   ]
  },
  {
   "cell_type": "code",
   "execution_count": 68,
   "id": "d7232c89",
   "metadata": {},
   "outputs": [
    {
     "name": "stdout",
     "output_type": "stream",
     "text": [
      "인덱싱이 안되용\n",
      "무슨 에러가 있어도 실행\n"
     ]
    }
   ],
   "source": [
    "try:\n",
    "    a = [1,2]\n",
    "    print(a[3])\n",
    "    4/0\n",
    "except ZeroDivisionError:\n",
    "    print('0으로 나눌 수 없습니다')\n",
    "except IndexError:\n",
    "    print('인덱싱이 안되용')\n",
    "finally:\n",
    "    print('무슨 에러가 있어도 실행')"
   ]
  },
  {
   "cell_type": "code",
   "execution_count": 60,
   "id": "f41d2360",
   "metadata": {},
   "outputs": [
    {
     "name": "stdout",
     "output_type": "stream",
     "text": [
      "thread 1 startsthread 2 starts\n",
      "thread 2 running 0\n",
      "\n",
      "thread 1 running 0\n",
      "thread 2 running 1\n",
      "thread 1 running 1\n",
      "thread 2 running 2thread 1 running 2\n",
      "\n",
      "thread 2 running 3\n",
      "thread 1 running 3\n",
      "thread 2 running 4thread 1 running 4\n",
      "\n",
      "thread 2 ends\n",
      "thread 1 running 5\n",
      "thread 1 running 6\n",
      "thread 1 running 7\n",
      "thread 1 running 8\n",
      "thread 1 running 9\n",
      "thread 1 ends\n"
     ]
    }
   ],
   "source": [
    "import threading\n",
    "import time\n",
    "\n",
    "def count(num,t,thread_num):\n",
    "    print(f'thread {thread_num} starts')\n",
    "    \n",
    "    for i in range(num):\n",
    "        print(f'thread {thread_num} running {i}')\n",
    "        time.sleep(t)\n",
    "        \n",
    "    print(f'thread {thread_num} ends')\n",
    "thread_1 = threading.Thread(target = count, args = (10,0.1,1))\n",
    "thread_1.start()\n",
    "count(5,0.1,2)"
   ]
  },
  {
   "cell_type": "code",
   "execution_count": null,
   "id": "a2d423e1",
   "metadata": {},
   "outputs": [],
   "source": []
  }
 ],
 "metadata": {
  "kernelspec": {
   "display_name": "Python 3 (ipykernel)",
   "language": "python",
   "name": "python3"
  },
  "language_info": {
   "codemirror_mode": {
    "name": "ipython",
    "version": 3
   },
   "file_extension": ".py",
   "mimetype": "text/x-python",
   "name": "python",
   "nbconvert_exporter": "python",
   "pygments_lexer": "ipython3",
   "version": "3.10.9"
  }
 },
 "nbformat": 4,
 "nbformat_minor": 5
}
