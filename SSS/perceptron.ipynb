{
 "cells": [
  {
   "cell_type": "markdown",
   "metadata": {},
   "source": [
    "## Perceptron(퍼셉트론)\n",
    ": 뉴런의 신호 메커니즘을 본떠 만든 수학적 모델\n",
    "\n",
    "퍼셉트론의 특징\n",
    ": 다수의 입력을 받아서 하나의 신호만 출력\n",
    "\n",
    "신호 : 강물이나 전류 처럼 흐르는 것\n",
    "\n",
    "전류가 흐르거나 안흐른다. (0,1만 있음) : 2진수, 컴퓨터\n",
    "\n",
    "원: 뉴런\n",
    "\n",
    "노드의 중요도를 표현하는 값\n",
    "\n",
    "편향 : 노드의 민감도를 조절한다. 가중치 만으로 세밀하게 조절하지 못할 때 사용\n",
    "\n",
    "x1, x2 = 입력값\n",
    "\n",
    "w1, w2 = 가중치\n",
    "\n",
    "0 : 임계값\n",
    "\n",
    "\n",
    "입력값이 들어오면 입력값에 가중치가 곱해진 후\n",
    "두 입력값을 더해서 특정 임계값을 넘어서면 1, 못 넘으면 0\n",
    "\n",
    "x = [x1, x2]\n",
    "w = [w1, w2]\n",
    "\n",
    "x[0]*w[0] + x[1]*w[1] = y"
   ]
  },
  {
   "attachments": {
    "퍼셉트론.png": {
     "image/png": "[encoded data removed]"
    }
   },
   "cell_type": "markdown",
   "metadata": {},
   "source": [
    "![퍼셉트론.png](attachment:퍼셉트론.png)"
   ]
  },
  {
   "cell_type": "markdown",
   "metadata": {},
   "source": [
    "AND\n",
    "\n",
    "0 0 : 0\n",
    "\n",
    "1 0 : 0\n",
    "\n",
    "0 1 : 0\n",
    "\n",
    "1 1 : 1"
   ]
  },
  {
   "cell_type": "code",
   "execution_count": 1,
   "metadata": {},
   "outputs": [],
   "source": [
    "def AND(x1,x2):\n",
    "    w1, w2, theta = 0.5, 0.5, 0.7\n",
    "    temp = x1*w1 + x2*w2\n",
    "    if temp <= theta:\n",
    "        return 0\n",
    "    elif temp>= theta:\n",
    "        return 1"
   ]
  },
  {
   "cell_type": "code",
   "execution_count": 2,
   "metadata": {},
   "outputs": [
    {
     "name": "stdout",
     "output_type": "stream",
     "text": [
      "0\n",
      "0\n",
      "0\n",
      "1\n"
     ]
    }
   ],
   "source": [
    "print(AND(0, 0))\n",
    "print(AND(1, 0))\n",
    "print(AND(0, 1))\n",
    "print(AND(1, 1))"
   ]
  },
  {
   "cell_type": "code",
   "execution_count": 3,
   "metadata": {},
   "outputs": [],
   "source": [
    "import numpy as np"
   ]
  },
  {
   "cell_type": "code",
   "execution_count": 33,
   "metadata": {},
   "outputs": [],
   "source": [
    "x = np.array([1,0])\n",
    "w = np.array([0.5, 0.5]) # 가중치\n",
    "b = -0.7 # 편향"
   ]
  },
  {
   "cell_type": "code",
   "execution_count": 34,
   "metadata": {},
   "outputs": [
    {
     "name": "stdout",
     "output_type": "stream",
     "text": [
      "-0.19999999999999996\n"
     ]
    }
   ],
   "source": [
    "print(np.sum(x*w)+b)"
   ]
  },
  {
   "cell_type": "code",
   "execution_count": 13,
   "metadata": {},
   "outputs": [],
   "source": [
    "def AND(x1,x2):\n",
    "    x = np.array([x1,x2])\n",
    "    w = np.array([0.5,0.5])\n",
    "    b = -0.7\n",
    "    temp = np.sum(x*w)+b\n",
    "    if temp <= 0:\n",
    "        return 0\n",
    "    elif temp >= 0:\n",
    "        return 1"
   ]
  },
  {
   "cell_type": "code",
   "execution_count": 14,
   "metadata": {},
   "outputs": [
    {
     "name": "stdout",
     "output_type": "stream",
     "text": [
      "0\n",
      "0\n",
      "0\n",
      "1\n"
     ]
    }
   ],
   "source": [
    "print(AND(0,0))\n",
    "print(AND(1,0))\n",
    "print(AND(0,1))\n",
    "print(AND(1,1))"
   ]
  },
  {
   "cell_type": "code",
   "execution_count": 17,
   "metadata": {},
   "outputs": [],
   "source": [
    "def NAND(x1,x2):\n",
    "    x = np.array([x1,x2])\n",
    "    w = np.array([-0.5,-0.5])\n",
    "    b = 0.7\n",
    "    temp = np.sum(x*w)+b\n",
    "    if temp <= 0:\n",
    "        return 0\n",
    "    elif temp >= 0:\n",
    "        return 1"
   ]
  },
  {
   "cell_type": "code",
   "execution_count": 18,
   "metadata": {},
   "outputs": [
    {
     "name": "stdout",
     "output_type": "stream",
     "text": [
      "1\n",
      "1\n",
      "1\n",
      "0\n"
     ]
    }
   ],
   "source": [
    "print(NAND(0,0))\n",
    "print(NAND(1,0))\n",
    "print(NAND(0,1))\n",
    "print(NAND(1,1))"
   ]
  },
  {
   "cell_type": "code",
   "execution_count": 35,
   "metadata": {},
   "outputs": [],
   "source": [
    "def OR(x1,x2):\n",
    "    x = np.array([x1,x2])\n",
    "    w = np.array([0.5,0.5])\n",
    "    b = -0.2\n",
    "    temp = np.sum(x*w)+b\n",
    "    if temp <= 0:\n",
    "        return 0\n",
    "    elif temp >= 0:\n",
    "        return 1"
   ]
  },
  {
   "cell_type": "code",
   "execution_count": 36,
   "metadata": {},
   "outputs": [
    {
     "name": "stdout",
     "output_type": "stream",
     "text": [
      "0\n",
      "1\n",
      "1\n",
      "1\n"
     ]
    }
   ],
   "source": [
    "print(OR(0,0))\n",
    "print(OR(1,0))\n",
    "print(OR(0,1))\n",
    "print(OR(1,1))"
   ]
  },
  {
   "cell_type": "code",
   "execution_count": null,
   "metadata": {},
   "outputs": [],
   "source": []
  }
 ],
 "metadata": {
  "kernelspec": {
   "display_name": "Python 3",
   "language": "python",
   "name": "python3"
  },
  "language_info": {
   "codemirror_mode": {
    "name": "ipython",
    "version": 3
   },
   "file_extension": ".py",
   "mimetype": "text/x-python",
   "name": "python",
   "nbconvert_exporter": "python",
   "pygments_lexer": "ipython3",
   "version": "3.12.3"
  }
 },
 "nbformat": 4,
 "nbformat_minor": 2
}
