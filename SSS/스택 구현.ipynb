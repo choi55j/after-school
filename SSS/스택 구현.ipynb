{
 "cells": [
  {
   "cell_type": "code",
   "execution_count": 23,
   "id": "32ccd505",
   "metadata": {
    "scrolled": true
   },
   "outputs": [
    {
     "name": "stdout",
     "output_type": "stream",
     "text": [
      "(1)<push>, (2)<pop>, (3)<print>, (4)exit 1\n",
      "현재 인덱스 : 0, 스택에 값을 입력하세요 아니\n",
      "(1)<push>, (2)<pop>, (3)<print>, (4)exit 1\n",
      "현재 인덱스 : 1, 스택에 값을 입력하세요 이게\n",
      "(1)<push>, (2)<pop>, (3)<print>, (4)exit 1\n",
      "현재 인덱스 : 2, 스택에 값을 입력하세요 진짜\n",
      "(1)<push>, (2)<pop>, (3)<print>, (4)exit 1\n",
      "현재 인덱스 : 3, 스택에 값을 입력하세요 맞아?\n",
      "(1)<push>, (2)<pop>, (3)<print>, (4)exit 3\n",
      "맞아?\n",
      "진짜\n",
      "이게\n",
      "아니\n",
      "(1)<push>, (2)<pop>, (3)<print>, (4)exit 4\n",
      "끝!\n"
     ]
    }
   ],
   "source": [
    "# 스택 구현하기\n",
    "\n",
    "스택 = {}\n",
    "승현 = -1\n",
    "\n",
    "while True:\n",
    "    입력 = int(input('(1)<push>, (2)<pop>, (3)<print>, (4)exit '))\n",
    "    if 입력==1:\n",
    "        # push\n",
    "        승현+=1\n",
    "        스택[승현] = input(f\"현재 인덱스 : {승현}, 스택에 값을 입력하세요 \")\n",
    "    elif 입력==2:\n",
    "        # pop\n",
    "        승현-=1\n",
    "        print(f'팝팝 팝팝~ 어어~, 현재 인덱스 : {승현-1}, 삭제되는 값 : {스택[승현]+1}')\n",
    "    elif 입력==3:\n",
    "        for i in range(승현,-1,-1):\n",
    "        # print\n",
    "            print(스택[i])\n",
    "    elif 입력==4:\n",
    "        print('끝!')\n",
    "        break\n",
    "    else:\n",
    "        print(\"없음\")"
   ]
  }
 ],
 "metadata": {
  "kernelspec": {
   "display_name": "Python 3 (ipykernel)",
   "language": "python",
   "name": "python3"
  },
  "language_info": {
   "codemirror_mode": {
    "name": "ipython",
    "version": 3
   },
   "file_extension": ".py",
   "mimetype": "text/x-python",
   "name": "python",
   "nbconvert_exporter": "python",
   "pygments_lexer": "ipython3",
   "version": "3.10.9"
  }
 },
 "nbformat": 4,
 "nbformat_minor": 5
}
