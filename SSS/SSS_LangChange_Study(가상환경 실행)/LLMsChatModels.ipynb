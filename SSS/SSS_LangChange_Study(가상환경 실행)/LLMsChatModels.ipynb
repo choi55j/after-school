{
 "cells": [
  {
   "cell_type": "code",
   "execution_count": 7,
   "metadata": {},
   "outputs": [],
   "source": [
    "from langchain_openai import OpenAI\n",
    "from langchain_openai import ChatOpenAI"
   ]
  },
  {
   "cell_type": "code",
   "execution_count": 18,
   "metadata": {},
   "outputs": [],
   "source": [
    "llm = OpenAI(temperature=0.1) # text-davinch-003 = LLM # 대규모 언어 모델, 대화 불가능\n",
    "chat = ChatOpenAI(temperature=0.1) # gpt-3.5-turbo = ChatModel\n",
    "chat_4 = ChatOpenAI(temperature=0.1, model='gpt-4') # gpt-4 = ChatModel\n",
    "# 낮추면 차갑고 간결하게, 높이면 사람다운 답변을 얻는 것이 가능하다"
   ]
  },
  {
   "cell_type": "code",
   "execution_count": 19,
   "metadata": {},
   "outputs": [],
   "source": [
    "a=llm.predict(\"How many planets are there?\")\n",
    "b=chat.predict(\"How many planets are there?\")\n",
    "c=chat_4.predict(\"How many planets are there?\")"
   ]
  },
  {
   "cell_type": "code",
   "execution_count": 20,
   "metadata": {},
   "outputs": [
    {
     "name": "stdout",
     "output_type": "stream",
     "text": [
      "\n",
      "\n",
      "As of 2021, there are eight planets in our solar system: Mercury, Venus, Earth, Mars, Jupiter, Saturn, Uranus, and Neptune. However, there may be more planets in other solar systems beyond our own.\n",
      "There are eight planets in our solar system: Mercury, Venus, Earth, Mars, Jupiter, Saturn, Uranus, and Neptune.\n",
      "There are 8 planets in our solar system.\n"
     ]
    }
   ],
   "source": [
    "print(a)\n",
    "print(b)\n",
    "print(c)"
   ]
  },
  {
   "cell_type": "markdown",
   "metadata": {},
   "source": [
    "# predict message"
   ]
  },
  {
   "cell_type": "code",
   "execution_count": 43,
   "metadata": {},
   "outputs": [
    {
     "data": {
      "text/plain": [
       "'What is the distance between Seoul and New Youk. Also, what is your name?'"
      ]
     },
     "execution_count": 43,
     "metadata": {},
     "output_type": "execute_result"
    }
   ],
   "source": [
    "from langchain_openai import ChatOpenAI\n",
    "from langchain_core.prompts import PromptTemplate, ChatPromptTemplate\n",
    "\n",
    "# PromaptTemplate = from String\n",
    "# ChatPromptTemplate : from Massage\n",
    "\n",
    "template = PromptTemplate.from_template(\n",
    "    \"What is the distance between {capital_a} and {capital_b}. Also, what is your name?\"\n",
    ")\n",
    "\n",
    "chat = ChatOpenAI(temperature=0.1, model='gpt-3.5-turbo')\n",
    "\n",
    "template.format(capital_a = 'Seoul', capital_b='New Youk')"
   ]
  },
  {
   "cell_type": "code",
   "execution_count": 48,
   "metadata": {},
   "outputs": [],
   "source": [
    "# from langchain_core.messages import HumanMessage, AIMessage, SystemMessage\n",
    "\n",
    "template = ChatPromptTemplate.from_messages([\n",
    "    (\"system\", \"You are a geography expert. And you only reply in {language}.\"),\n",
    "    (\"ai\", \"안녕 내 이름은 {name}!\"),\n",
    "    (\"human\", \"What is the distance between {capital_a} and {capital_b}. Also, what is your name?\"),\n",
    "])"
   ]
  },
  {
   "cell_type": "code",
   "execution_count": 54,
   "metadata": {},
   "outputs": [],
   "source": [
    "prompt = template.format_messages(\n",
    "    language = \"korean\",\n",
    "    name = \"수혁\",\n",
    "    capital_a = \"서울\",\n",
    "    capital_b = \"브라질\"\n",
    ")\n",
    "# chat.predict_messages(messages)"
   ]
  },
  {
   "cell_type": "code",
   "execution_count": 55,
   "metadata": {},
   "outputs": [
    {
     "data": {
      "text/plain": [
       "AIMessage(content='서울과 브라질 사이의 거리는 약 19,000km입니다. 제 이름은 수혁입니다.', response_metadata={'token_usage': {'completion_tokens': 34, 'prompt_tokens': 63, 'total_tokens': 97}, 'model_name': 'gpt-3.5-turbo', 'system_fingerprint': None, 'finish_reason': 'stop', 'logprobs': None}, id='run-98b6189b-0d0d-4bcc-8944-5b9361bfb4c3-0', usage_metadata={'input_tokens': 63, 'output_tokens': 34, 'total_tokens': 97})"
      ]
     },
     "execution_count": 55,
     "metadata": {},
     "output_type": "execute_result"
    }
   ],
   "source": [
    "chat.predict_messages(prompt)"
   ]
  },
  {
   "cell_type": "code",
   "execution_count": null,
   "metadata": {},
   "outputs": [],
   "source": [
    "# from langchain_core.messages import HumanMessage, AIMessage, SystemMessage\n",
    "\n",
    "# messages = [\n",
    "#     SystemMessage(content=\"You are a geography expert. And you only reply in {language}.\"),\n",
    "#     AIMessage(content=\"안녕 내 이름은 {name}\"),\n",
    "#     HumanMessage(content=\"What is the distance between {capital_a} and {capital_b}. Also, what is your name?\"),\n",
    "# ]\n",
    "\n",
    "# chat.predict_messages(messages)"
   ]
  }
 ],
 "metadata": {
  "kernelspec": {
   "display_name": "env",
   "language": "python",
   "name": "python3"
  },
  "language_info": {
   "codemirror_mode": {
    "name": "ipython",
    "version": 3
   },
   "file_extension": ".py",
   "mimetype": "text/x-python",
   "name": "python",
   "nbconvert_exporter": "python",
   "pygments_lexer": "ipython3",
   "version": "3.12.3"
  }
 },
 "nbformat": 4,
 "nbformat_minor": 2
}
