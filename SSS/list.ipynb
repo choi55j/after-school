{
 "cells": [
  {
   "cell_type": "code",
   "execution_count": 1,
   "id": "ce44139a",
   "metadata": {},
   "outputs": [
    {
     "name": "stdout",
     "output_type": "stream",
     "text": [
      "3\n"
     ]
    }
   ],
   "source": [
    "'''\n",
    "list : 배열 (순차 배열) (array)\n",
    "순차적 자료 구조\n",
    "\n",
    "이름과 순서번호로 데이터에 접근한다\n",
    "\n",
    "리스트변수이름 = [값1,값2,값3]\n",
    "인덱스가 문자열이랑 똑같다\n",
    "list = [1,2,3]\n",
    "index = [0,1,2]\n",
    "\n",
    "tuple : \n",
    "set : 집합\n",
    "dict : 순서가 없는 집합\n",
    "'''\n",
    "\n",
    "arr : list = [1,2,3]\n",
    "print(arr[2])"
   ]
  },
  {
   "cell_type": "code",
   "execution_count": 3,
   "id": "3f806f37",
   "metadata": {},
   "outputs": [
    {
     "name": "stdout",
     "output_type": "stream",
     "text": [
      "3\n",
      "3\n"
     ]
    }
   ],
   "source": [
    "print(arr[-1])\n",
    "print(arr[len(arr)-1])"
   ]
  },
  {
   "cell_type": "code",
   "execution_count": 4,
   "id": "0d7b42f0",
   "metadata": {},
   "outputs": [
    {
     "name": "stdout",
     "output_type": "stream",
     "text": [
      "appleapple\n"
     ]
    }
   ],
   "source": [
    "fruits = ['apple','banner']\n",
    "apples = ['header','apple']\n",
    "\n",
    "print(fruits[0]+apples[1])"
   ]
  },
  {
   "cell_type": "code",
   "execution_count": 6,
   "id": "a84c3df5",
   "metadata": {},
   "outputs": [
    {
     "name": "stdout",
     "output_type": "stream",
     "text": [
      "1\n",
      "2\n",
      "3\n"
     ]
    }
   ],
   "source": [
    "for i in range(len(arr)):\n",
    "    print(arr[i])"
   ]
  },
  {
   "cell_type": "code",
   "execution_count": 8,
   "id": "34fb0c52",
   "metadata": {},
   "outputs": [
    {
     "name": "stdout",
     "output_type": "stream",
     "text": [
      "1\n",
      "2\n",
      "3\n"
     ]
    }
   ],
   "source": [
    "for x in arr:\n",
    "    print(x)"
   ]
  },
  {
   "cell_type": "code",
   "execution_count": 9,
   "id": "9c6b64ea",
   "metadata": {},
   "outputs": [
    {
     "name": "stdout",
     "output_type": "stream",
     "text": [
      "[0, 0, 0, 0, 0, 0]\n",
      "[0, 0, 0, 0, 0, 0]\n"
     ]
    }
   ],
   "source": [
    "my_list = [0,0,0,0,0,0]\n",
    "my_list1 = [0]*6\n",
    "print(my_list)\n",
    "print(my_list1)"
   ]
  },
  {
   "cell_type": "code",
   "execution_count": 13,
   "id": "52f6b8fd",
   "metadata": {},
   "outputs": [
    {
     "name": "stdout",
     "output_type": "stream",
     "text": [
      "[0, 1, 2, 3, 4, 5, 6]\n"
     ]
    }
   ],
   "source": [
    "my_list = list(range(0,7))\n",
    "print(my_list)"
   ]
  },
  {
   "cell_type": "code",
   "execution_count": 15,
   "id": "4909bc3a",
   "metadata": {},
   "outputs": [
    {
     "data": {
      "text/plain": [
       "[2, 4, 6]"
      ]
     },
     "execution_count": 15,
     "metadata": {},
     "output_type": "execute_result"
    }
   ],
   "source": [
    "even_list = list(range(2,7,2))\n",
    "even_list"
   ]
  },
  {
   "cell_type": "code",
   "execution_count": 16,
   "id": "c968e992",
   "metadata": {},
   "outputs": [
    {
     "data": {
      "text/plain": [
       "[1, 3, 5]"
      ]
     },
     "execution_count": 16,
     "metadata": {},
     "output_type": "execute_result"
    }
   ],
   "source": [
    "odd_list = list(range(1,7,2))\n",
    "odd_list"
   ]
  },
  {
   "cell_type": "code",
   "execution_count": 17,
   "id": "37e55ef6",
   "metadata": {},
   "outputs": [
    {
     "name": "stdout",
     "output_type": "stream",
     "text": [
      "False\n",
      "True\n"
     ]
    }
   ],
   "source": [
    "subject=['korean','English','Math','Science']\n",
    "print('japanese' in subject)\n",
    "print('korean' in subject)"
   ]
  },
  {
   "cell_type": "code",
   "execution_count": 22,
   "id": "1c7c6b5f",
   "metadata": {},
   "outputs": [
    {
     "name": "stdout",
     "output_type": "stream",
     "text": [
      "CPU(이)가 정상적으로 탑제 되었습니다\n",
      "GPU(이)가 정상적으로 탑제 되었습니다\n",
      "RAM(이)가 정상적으로 탑제 되었습니다\n",
      "SSD(이)가 정상적으로 탑제 되었습니다\n",
      "CPU(이)가 정상적으로 탑제 되었습니다\n",
      "GPU(이)가 정상적으로 탑제 되었습니다\n",
      "RAM(이)가 누락되었습니다\n",
      "SSD(이)가 정상적으로 탑제 되었습니다\n",
      "CPU(이)가 정상적으로 탑제 되었습니다\n",
      "GPU(이)가 정상적으로 탑제 되었습니다\n",
      "RAM(이)가 누락되었습니다\n",
      "SSD(이)가 누락되었습니다\n",
      "누락 : 3\n"
     ]
    }
   ],
   "source": [
    "objects = ['CPU','GPU','RAM','SSD']\n",
    "\n",
    "phone = [['CPU','GPU','RAM','SSD'],['CPU','GPU','SSD'],['CPU','GPU']]\n",
    "\n",
    "error = 0\n",
    "\n",
    "for p in phone:\n",
    "    for o in objects:\n",
    "        if o in p:\n",
    "            print(f'{o}(이)가 정상적으로 탑제 되었습니다')\n",
    "        else:\n",
    "            error+=1\n",
    "            print(f'{o}(이)가 누락되었습니다')\n",
    "            \n",
    "print(f'누락 : {error}')"
   ]
  },
  {
   "cell_type": "code",
   "execution_count": 25,
   "id": "dccdf28f",
   "metadata": {},
   "outputs": [
    {
     "name": "stdout",
     "output_type": "stream",
     "text": [
      "55\n"
     ]
    }
   ],
   "source": [
    "my_sum_list = list(range(1,11))\n",
    "\n",
    "my_sum = 0\n",
    "\n",
    "for s in my_sum_list:\n",
    "    my_sum+=s\n",
    "print(my_sum)"
   ]
  },
  {
   "cell_type": "code",
   "execution_count": 26,
   "id": "85afc892",
   "metadata": {},
   "outputs": [
    {
     "name": "stdout",
     "output_type": "stream",
     "text": [
      "55\n"
     ]
    }
   ],
   "source": [
    "print(sum(my_sum_list))"
   ]
  },
  {
   "cell_type": "code",
   "execution_count": 27,
   "id": "4b12c550",
   "metadata": {},
   "outputs": [
    {
     "name": "stdout",
     "output_type": "stream",
     "text": [
      "10\n"
     ]
    }
   ],
   "source": [
    "print(max(my_sum_list))"
   ]
  },
  {
   "cell_type": "code",
   "execution_count": 28,
   "id": "69dfe890",
   "metadata": {},
   "outputs": [
    {
     "name": "stdout",
     "output_type": "stream",
     "text": [
      "1\n"
     ]
    }
   ],
   "source": [
    "print(min(my_sum_list))"
   ]
  },
  {
   "cell_type": "code",
   "execution_count": 69,
   "id": "3015f70a",
   "metadata": {},
   "outputs": [],
   "source": [
    "latest = [0,1,2,3,4,5]"
   ]
  },
  {
   "cell_type": "code",
   "execution_count": 70,
   "id": "ad552f01",
   "metadata": {
    "scrolled": true
   },
   "outputs": [
    {
     "name": "stdout",
     "output_type": "stream",
     "text": [
      "5\n"
     ]
    }
   ],
   "source": [
    "print(latest.pop())"
   ]
  },
  {
   "cell_type": "code",
   "execution_count": 71,
   "id": "6055c19a",
   "metadata": {},
   "outputs": [
    {
     "data": {
      "text/plain": [
       "[0, 1, 2, 3, 4]"
      ]
     },
     "execution_count": 71,
     "metadata": {},
     "output_type": "execute_result"
    }
   ],
   "source": [
    "latest"
   ]
  },
  {
   "cell_type": "code",
   "execution_count": 72,
   "id": "6eb0e032",
   "metadata": {},
   "outputs": [
    {
     "name": "stdout",
     "output_type": "stream",
     "text": [
      "1\n"
     ]
    }
   ],
   "source": [
    "print(latest.pop(1))"
   ]
  },
  {
   "cell_type": "code",
   "execution_count": 73,
   "id": "c2d6995a",
   "metadata": {
    "scrolled": true
   },
   "outputs": [
    {
     "name": "stdout",
     "output_type": "stream",
     "text": [
      "4\n"
     ]
    }
   ],
   "source": [
    "print(latest.pop(len(latest)-1))"
   ]
  },
  {
   "cell_type": "code",
   "execution_count": 29,
   "id": "b0314e50",
   "metadata": {},
   "outputs": [
    {
     "name": "stdout",
     "output_type": "stream",
     "text": [
      "[1, 2, 2, 3, 4, 5]\n"
     ]
    }
   ],
   "source": [
    "my_numbers = [1,2,3,4,5]\n",
    "my_numbers.insert(1,2)\n",
    "print(my_numbers)"
   ]
  },
  {
   "cell_type": "code",
   "execution_count": 30,
   "id": "aa86fd44",
   "metadata": {},
   "outputs": [
    {
     "name": "stdout",
     "output_type": "stream",
     "text": [
      "[0, 7]\n"
     ]
    }
   ],
   "source": [
    "rm_num = [0,0,7]\n",
    "\n",
    "rm_num.remove(0)\n",
    "\n",
    "print(rm_num)\n",
    "\n",
    "# 값이 중복 되어 있으면 인덱스가 작은 값 부터 제거"
   ]
  },
  {
   "cell_type": "code",
   "execution_count": 32,
   "id": "bbe2fe7a",
   "metadata": {},
   "outputs": [
    {
     "data": {
      "text/plain": [
       "[]"
      ]
     },
     "execution_count": 32,
     "metadata": {},
     "output_type": "execute_result"
    }
   ],
   "source": [
    "c_list = [10]*5\n",
    "\n",
    "# 모든 값 삭제\n",
    "c_list.clear()\n",
    "\n",
    "c_list"
   ]
  },
  {
   "cell_type": "code",
   "execution_count": 33,
   "id": "e075d0ab",
   "metadata": {},
   "outputs": [
    {
     "data": {
      "text/plain": [
       "2"
      ]
     },
     "execution_count": 33,
     "metadata": {},
     "output_type": "execute_result"
    }
   ],
   "source": [
    "i_list=[100,200,300]\n",
    "\n",
    "i_list.index(300)"
   ]
  },
  {
   "cell_type": "code",
   "execution_count": null,
   "id": "0caeb387",
   "metadata": {},
   "outputs": [],
   "source": [
    "i_list.index(500)"
   ]
  },
  {
   "cell_type": "code",
   "execution_count": 34,
   "id": "663168c1",
   "metadata": {},
   "outputs": [
    {
     "name": "stdout",
     "output_type": "stream",
     "text": [
      "500은 이 리스트 안에 없습니다\n"
     ]
    }
   ],
   "source": [
    "if 5 in i_list:\n",
    "    print(i_list.index(500))\n",
    "else:\n",
    "    print('500은 이 리스트 안에 없습니다')"
   ]
  },
  {
   "cell_type": "code",
   "execution_count": 38,
   "id": "b35c986c",
   "metadata": {},
   "outputs": [
    {
     "data": {
      "text/plain": [
       "[1, 2, 3, 4, 5]"
      ]
     },
     "execution_count": 38,
     "metadata": {},
     "output_type": "execute_result"
    }
   ],
   "source": [
    "slice_list = list(range(1,11))\n",
    "\n",
    "slice_list[:5]"
   ]
  },
  {
   "cell_type": "code",
   "execution_count": 40,
   "id": "f2c2f180",
   "metadata": {},
   "outputs": [
    {
     "data": {
      "text/plain": [
       "[10, 8, 6, 4, 2]"
      ]
     },
     "execution_count": 40,
     "metadata": {},
     "output_type": "execute_result"
    }
   ],
   "source": [
    "slice_list[::-2]"
   ]
  },
  {
   "cell_type": "code",
   "execution_count": 41,
   "id": "cf8daaee",
   "metadata": {},
   "outputs": [
    {
     "name": "stdout",
     "output_type": "stream",
     "text": [
      "[2, 2, 3]\n",
      "[2, 2, 3]\n"
     ]
    }
   ],
   "source": [
    "# list copy\n",
    "\n",
    "list1 = [1,2,3]\n",
    "list2 = list1\n",
    "list1[0] = 2\n",
    "print(list1)\n",
    "print(list2)"
   ]
  },
  {
   "cell_type": "code",
   "execution_count": 58,
   "id": "b9fee848",
   "metadata": {},
   "outputs": [
    {
     "data": {
      "text/plain": [
       "[1, 2, 3]"
      ]
     },
     "execution_count": 58,
     "metadata": {},
     "output_type": "execute_result"
    }
   ],
   "source": [
    "list1=[1,2,3]\n",
    "list2 = [x for x in list1]\n",
    "list2"
   ]
  },
  {
   "cell_type": "code",
   "execution_count": 43,
   "id": "107270c9",
   "metadata": {},
   "outputs": [
    {
     "name": "stdout",
     "output_type": "stream",
     "text": [
      "[1, 8, 10, 16, 20, 28, 30]\n"
     ]
    }
   ],
   "source": [
    "st_list = [10,20,30,8,1,16,28]\n",
    "st_list.sort()\n",
    "print(st_list)"
   ]
  },
  {
   "cell_type": "code",
   "execution_count": 44,
   "id": "5ae927c9",
   "metadata": {},
   "outputs": [
    {
     "name": "stdout",
     "output_type": "stream",
     "text": [
      "[30, 28, 20, 16, 10, 8, 1]\n"
     ]
    }
   ],
   "source": [
    "st_list.sort(reverse=True)\n",
    "print(st_list)"
   ]
  },
  {
   "cell_type": "code",
   "execution_count": 45,
   "id": "5f6dec68",
   "metadata": {},
   "outputs": [
    {
     "name": "stdout",
     "output_type": "stream",
     "text": [
      "1\n"
     ]
    }
   ],
   "source": [
    "st_list.sort()\n",
    "print(st_list[0])"
   ]
  },
  {
   "cell_type": "code",
   "execution_count": 46,
   "id": "241a62fd",
   "metadata": {},
   "outputs": [
    {
     "name": "stdout",
     "output_type": "stream",
     "text": [
      "[1, 2, 3]\n",
      "[1, 2, 3]\n"
     ]
    }
   ],
   "source": [
    "list_1 = [1,2,3]\n",
    "list_2 = []\n",
    "\n",
    "for i in list_1:\n",
    "    list_2.append(i)\n",
    "    \n",
    "list_3 = [x for x in list_1]\n",
    "\n",
    "print(list_2)\n",
    "print(list_3)"
   ]
  },
  {
   "cell_type": "code",
   "execution_count": 49,
   "id": "b8029ea9",
   "metadata": {},
   "outputs": [
    {
     "data": {
      "text/plain": [
       "[2, 4, 6]"
      ]
     },
     "execution_count": 49,
     "metadata": {},
     "output_type": "execute_result"
    }
   ],
   "source": [
    "list_4 = [x*2 for x in list_1]\n",
    "list_4"
   ]
  },
  {
   "cell_type": "code",
   "execution_count": 50,
   "id": "baf3bb8a",
   "metadata": {},
   "outputs": [
    {
     "data": {
      "text/plain": [
       "[3, 5, 6, 7]"
      ]
     },
     "execution_count": 50,
     "metadata": {},
     "output_type": "execute_result"
    }
   ],
   "source": [
    "lists = [3,5,6,7,11,20,30]\n",
    "list_5 = [x for x in lists if x> 0 and x<10]\n",
    "\n",
    "list_5"
   ]
  },
  {
   "cell_type": "code",
   "execution_count": 51,
   "id": "f4627b87",
   "metadata": {},
   "outputs": [
    {
     "data": {
      "text/plain": [
       "[0, 2, 4, 6, 8]"
      ]
     },
     "execution_count": 51,
     "metadata": {},
     "output_type": "execute_result"
    }
   ],
   "source": [
    "list_6 = [x for x in range(10) if x %2 ==0]\n",
    "list_7 = list(range(0,10,2))\n",
    "\n",
    "list_6\n",
    "list_7"
   ]
  },
  {
   "cell_type": "code",
   "execution_count": 52,
   "id": "1b41157f",
   "metadata": {},
   "outputs": [
    {
     "name": "stdout",
     "output_type": "stream",
     "text": [
      "8\n"
     ]
    }
   ],
   "source": [
    "my_list = [1,8,2,7]\n",
    "\n",
    "my_max = 0\n",
    "\n",
    "for x in my_list:\n",
    "    if x > my_max:\n",
    "        my_max=x\n",
    "        \n",
    "print(my_max)"
   ]
  },
  {
   "cell_type": "code",
   "execution_count": 53,
   "id": "8a4039f7",
   "metadata": {},
   "outputs": [
    {
     "name": "stdout",
     "output_type": "stream",
     "text": [
      "-1\n"
     ]
    }
   ],
   "source": [
    "my_list = [-1,-8,-2,-7]\n",
    "\n",
    "my_max = None\n",
    "for x in my_list:\n",
    "    if my_max == None:\n",
    "        my_max=x\n",
    "    if x > my_max:\n",
    "        my_max=x\n",
    "print(my_max)"
   ]
  },
  {
   "cell_type": "code",
   "execution_count": 56,
   "id": "e279cbc1",
   "metadata": {},
   "outputs": [
    {
     "name": "stdout",
     "output_type": "stream",
     "text": [
      "-1\n"
     ]
    }
   ],
   "source": [
    "my_list = [-1,-8,-2,-7]\n",
    "\n",
    "my_max = None\n",
    "for x in my_list:\n",
    "    if my_max == None or x > my_max:\n",
    "        my_max =x\n",
    "print(my_max)"
   ]
  },
  {
   "cell_type": "code",
   "execution_count": 64,
   "id": "da64f3b2",
   "metadata": {
    "scrolled": true
   },
   "outputs": [
    {
     "name": "stdout",
     "output_type": "stream",
     "text": [
      "-1\n"
     ]
    }
   ],
   "source": [
    "def My_max(my_list : list):\n",
    "    for x in my_list:\n",
    "        if my_max == None or x > my_max:\n",
    "            my_max =x\n",
    "print(my_max)"
   ]
  },
  {
   "cell_type": "code",
   "execution_count": null,
   "id": "e6fc73d0",
   "metadata": {},
   "outputs": [],
   "source": []
  }
 ],
 "metadata": {
  "kernelspec": {
   "display_name": "Python 3 (ipykernel)",
   "language": "python",
   "name": "python3"
  },
  "language_info": {
   "codemirror_mode": {
    "name": "ipython",
    "version": 3
   },
   "file_extension": ".py",
   "mimetype": "text/x-python",
   "name": "python",
   "nbconvert_exporter": "python",
   "pygments_lexer": "ipython3",
   "version": "3.11.4"
  }
 },
 "nbformat": 4,
 "nbformat_minor": 5
}
