{
 "cells": [
  {
   "cell_type": "markdown",
   "metadata": {},
   "source": [
    "```\n",
    "비트 : bit -> binary (2진법) + digit (숫자)\n",
    "=> 컴퓨터에서 사용되는 가장 작은 단위\n",
    "\n",
    "0, 1\n",
    "\n",
    "10진수 (0, 1, 2, 3, ... , 9) : 서로 다른 수를 10개의 문자로 구분\n",
    "8진수 (0, 1, 2, 3, ..., 7): 8개\n",
    "2 (0, 1) : 2개\n",
    "\n",
    "초기의 컴퓨터 : 비싸고 고가의 물품\n",
    "\n",
    "4bit : 16개\n",
    "8bit : 256개\n",
    "12bit : 4096\n",
    "16 : 1048576\n",
    "\n",
    "2진수를 사용하면 적은 비트로 많은 숫자를 표현할 수 있다.\n",
    "\n",
    "and 둘이 True면 True\n",
    "or 하나만 True여도 True\n",
    "xor 둘이 달라야지만 True\n",
    "nand 하나만 False여도 True\n",
    "\n",
    "1 = True\n",
    "0 = False\n",
    "```"
   ]
  },
  {
   "cell_type": "code",
   "execution_count": 1,
   "metadata": {},
   "outputs": [],
   "source": [
    "def AND(a,b):\n",
    "    if a and b:\n",
    "        return 1\n",
    "    else:\n",
    "        return 0"
   ]
  },
  {
   "cell_type": "code",
   "execution_count": 2,
   "metadata": {},
   "outputs": [
    {
     "data": {
      "text/plain": [
       "1"
      ]
     },
     "execution_count": 2,
     "metadata": {},
     "output_type": "execute_result"
    }
   ],
   "source": [
    "AND(1,1)"
   ]
  },
  {
   "cell_type": "code",
   "execution_count": 3,
   "metadata": {},
   "outputs": [],
   "source": [
    "def OR(a,b):\n",
    "    if a or b:\n",
    "        return 1\n",
    "    else:\n",
    "        return 0"
   ]
  },
  {
   "cell_type": "code",
   "execution_count": 4,
   "metadata": {},
   "outputs": [
    {
     "name": "stdout",
     "output_type": "stream",
     "text": [
      "1\n",
      "1\n",
      "1\n",
      "0\n"
     ]
    }
   ],
   "source": [
    "print(OR(1,1))\n",
    "print(OR(1,0))\n",
    "print(OR(0,1))\n",
    "print(OR(0,0))"
   ]
  },
  {
   "cell_type": "code",
   "execution_count": 5,
   "metadata": {},
   "outputs": [],
   "source": [
    "def NOT(a):\n",
    "    if a:\n",
    "        return 0\n",
    "    else:\n",
    "        return 1"
   ]
  },
  {
   "cell_type": "code",
   "execution_count": 8,
   "metadata": {},
   "outputs": [
    {
     "name": "stdout",
     "output_type": "stream",
     "text": [
      "1\n",
      "0\n"
     ]
    }
   ],
   "source": [
    "print(NOT(0))\n",
    "print(NOT(1))"
   ]
  },
  {
   "cell_type": "code",
   "execution_count": 9,
   "metadata": {},
   "outputs": [],
   "source": [
    "def XOR(a,b):\n",
    "    if NOT(a) and b:\n",
    "        return 1\n",
    "    elif a and NOT(b):\n",
    "        return 1\n",
    "    else:\n",
    "        return 0"
   ]
  },
  {
   "cell_type": "code",
   "execution_count": 11,
   "metadata": {},
   "outputs": [
    {
     "name": "stdout",
     "output_type": "stream",
     "text": [
      "0\n",
      "0\n",
      "1\n"
     ]
    }
   ],
   "source": [
    "print(XOR(1,1))\n",
    "print(XOR(0,0))\n",
    "print(XOR(1,0))"
   ]
  },
  {
   "cell_type": "code",
   "execution_count": 22,
   "metadata": {},
   "outputs": [],
   "source": [
    "def NAND(a,b):\n",
    "    return NOT(AND(a,b))"
   ]
  },
  {
   "cell_type": "code",
   "execution_count": 23,
   "metadata": {},
   "outputs": [
    {
     "name": "stdout",
     "output_type": "stream",
     "text": [
      "0\n",
      "1\n",
      "1\n",
      "1\n"
     ]
    }
   ],
   "source": [
    "print(NAND(1,1))\n",
    "print(NAND(1,0))\n",
    "print(NAND(0,1))\n",
    "print(NAND(0,0))"
   ]
  },
  {
   "cell_type": "code",
   "execution_count": 20,
   "metadata": {},
   "outputs": [],
   "source": [
    "def Half_Adder(a,b):\n",
    "    s = XOR(a,b)\n",
    "    c = AND(a,b)\n",
    "    return f'{c}{s}'"
   ]
  },
  {
   "cell_type": "code",
   "execution_count": 21,
   "metadata": {},
   "outputs": [
    {
     "name": "stdout",
     "output_type": "stream",
     "text": [
      "10\n",
      "01\n",
      "01\n",
      "00\n"
     ]
    }
   ],
   "source": [
    "print(Half_Adder(1,1))\n",
    "print(Half_Adder(1,0))\n",
    "print(Half_Adder(0,1))\n",
    "print(Half_Adder(0,0))"
   ]
  },
  {
   "cell_type": "code",
   "execution_count": null,
   "metadata": {},
   "outputs": [],
   "source": []
  }
 ],
 "metadata": {
  "kernelspec": {
   "display_name": "Python 3",
   "language": "python",
   "name": "python3"
  },
  "language_info": {
   "codemirror_mode": {
    "name": "ipython",
    "version": 3
   },
   "file_extension": ".py",
   "mimetype": "text/x-python",
   "name": "python",
   "nbconvert_exporter": "python",
   "pygments_lexer": "ipython3",
   "version": "3.12.3"
  }
 },
 "nbformat": 4,
 "nbformat_minor": 2
}
