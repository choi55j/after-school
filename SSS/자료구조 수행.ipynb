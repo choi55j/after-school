{
 "cells": [
  {
   "cell_type": "code",
   "execution_count": 1,
   "id": "064a8412",
   "metadata": {},
   "outputs": [
    {
     "name": "stdout",
     "output_type": "stream",
     "text": [
      "(1)push (2)pop (3)print (4)reverse (5)exit4\n",
      "reverse할 글자를 입력해주세여kcuf\n",
      "fuck\n",
      "(1)push (2)pop (3)print (4)reverse (5)exit5\n"
     ]
    }
   ],
   "source": [
    "스택 = {}\n",
    "승현 = -1\n",
    "\n",
    "while True:\n",
    "    입력 = int(input(\"(1)push (2)pop (3)print (4)reverse (5)exit\"))\n",
    "\n",
    "    if 입력==1:         # push\n",
    "        승현+=1\n",
    "        스택[승현] = input(f\"푸쉬, 현재 인덱스: {승현}, 값을 입력하세요\")\n",
    "    elif 입력==2:       # pop\n",
    "        if 승현>0:\n",
    "            print(f\"팝팝, 현재 인덱스: {승현-1}, 삭제되는 값: {스택[승현]}\")\n",
    "            승현-=1\n",
    "        else:\n",
    "            print('스택이 비었습니다')\n",
    "    elif 입력==3:       # print\n",
    "        for i in range(승현, -1, -1) :\n",
    "            print(스택[i]+\" \")\n",
    "    elif 입력==4:\n",
    "        reverse = input('reverse할 글자를 입력해주세여')\n",
    "        print(reverse[::-1])\n",
    "    elif 입력==5:\n",
    "        break\n",
    "    else:\n",
    "        print(\"재미없어!!\")"
   ]
  }
 ],
 "metadata": {
  "kernelspec": {
   "display_name": "Python 3 (ipykernel)",
   "language": "python",
   "name": "python3"
  },
  "language_info": {
   "codemirror_mode": {
    "name": "ipython",
    "version": 3
   },
   "file_extension": ".py",
   "mimetype": "text/x-python",
   "name": "python",
   "nbconvert_exporter": "python",
   "pygments_lexer": "ipython3",
   "version": "3.10.9"
  }
 },
 "nbformat": 4,
 "nbformat_minor": 5
}
