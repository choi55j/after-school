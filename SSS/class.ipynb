{
 "cells": [
  {
   "cell_type": "markdown",
   "metadata": {},
   "source": [
    "```\n",
    "class = 객체 지향(OOP, Object Oriented Programming)\n",
    "PP : Procedural Progamming\n",
    "\n",
    "쿠키 커터 : 같은 모양과 크기의 어떤 쿠키들을 여러개 만들 수 있음\n",
    "\n",
    "클래스 : 어떤 객체(쿠키)가 가져야할 모양과 기능(크기, 재료, 모양)을 정의 하는 것\n",
    "학교 클래스 : 여러가지 정보(속성)와 기능(메소드, 함수)\n",
    "\n",
    "속성 : 학교 이름, 학교 위치, 학생 수\n",
    "메소드 : 학생 등록, 학생 이름 바꾸기, 학생 점수 등록\n",
    "일종의 설계도\n",
    "\n",
    "value = class()\n",
    "\n",
    "1. 생성자 : 클래스를 생성할 때 필요한 초기값 등을 전달하는데 사용\n",
    "2. 맴버변수 : 클래스 내에서 담어서 쓰게 될 변수\n",
    "3. 맴버함수 : 클래스 내에서 선언되어 사용할 함수\n",
    "```"
   ]
  },
  {
   "cell_type": "code",
   "execution_count": 53,
   "metadata": {},
   "outputs": [],
   "source": [
    "class player:\n",
    "    def __init__(self,name,hp,mp,ap) -> None:\n",
    "        self.name = name\n",
    "        self.hp = hp\n",
    "        self.mp = mp\n",
    "        self.ap = ap\n",
    "        self.Lv = 0\n",
    "\n",
    "    def sayname(self,name):\n",
    "        print(f'hi {name}, my name is {self.name}')\n",
    "\n",
    "    def LevelUp(self, level):\n",
    "        self.Lv += level\n",
    "        print(f'Lv +{level}')\n",
    "\n",
    "\n",
    "player1 = player('player1',100,200,300)"
   ]
  },
  {
   "cell_type": "code",
   "execution_count": 55,
   "metadata": {},
   "outputs": [
    {
     "name": "stdout",
     "output_type": "stream",
     "text": [
      " 이름은 player1\n",
      " 체력은 100\n",
      " 마나은 200\n",
      " 능력은 300\n",
      " 경험치는 0\n"
     ]
    }
   ],
   "source": [
    "print(f' 이름은 {player1.name}')\n",
    "print(f' 체력은 {player1.hp}')\n",
    "print(f' 마나은 {player1.mp}')\n",
    "print(f' 능력은 {player1.ap}')\n",
    "print(f' 경험치는 {player1.Lv}')"
   ]
  },
  {
   "cell_type": "code",
   "execution_count": 57,
   "metadata": {},
   "outputs": [
    {
     "name": "stdout",
     "output_type": "stream",
     "text": [
      "hi player2, my name is player1\n"
     ]
    }
   ],
   "source": [
    "player1.sayname('player2')"
   ]
  },
  {
   "cell_type": "code",
   "execution_count": 58,
   "metadata": {},
   "outputs": [
    {
     "name": "stdout",
     "output_type": "stream",
     "text": [
      "Lv +10\n"
     ]
    }
   ],
   "source": [
    "player1.LevelUp(10)"
   ]
  },
  {
   "cell_type": "code",
   "execution_count": 59,
   "metadata": {},
   "outputs": [
    {
     "data": {
      "text/plain": [
       "10"
      ]
     },
     "execution_count": 59,
     "metadata": {},
     "output_type": "execute_result"
    }
   ],
   "source": [
    "player1.Lv"
   ]
  },
  {
   "cell_type": "code",
   "execution_count": 65,
   "metadata": {},
   "outputs": [],
   "source": [
    "player2 = player('player2',100, 100, 200)"
   ]
  },
  {
   "cell_type": "code",
   "execution_count": 66,
   "metadata": {},
   "outputs": [
    {
     "name": "stdout",
     "output_type": "stream",
     "text": [
      "hi player2, my name is player1\n"
     ]
    }
   ],
   "source": [
    "player1.sayname(player2.name)"
   ]
  },
  {
   "cell_type": "code",
   "execution_count": 67,
   "metadata": {},
   "outputs": [],
   "source": [
    "players = [player1, player2]"
   ]
  },
  {
   "cell_type": "code",
   "execution_count": 69,
   "metadata": {},
   "outputs": [
    {
     "data": {
      "text/plain": [
       "[<__main__.player at 0x1e227b84860>, <__main__.player at 0x1e227bd7bf0>]"
      ]
     },
     "execution_count": 69,
     "metadata": {},
     "output_type": "execute_result"
    }
   ],
   "source": [
    "players"
   ]
  },
  {
   "cell_type": "code",
   "execution_count": 70,
   "metadata": {},
   "outputs": [
    {
     "name": "stdout",
     "output_type": "stream",
     "text": [
      "name : player1\n",
      "name :  100\n",
      "name :  200\n",
      "name :  300\n",
      "----------\n",
      "name : player2\n",
      "name :  100\n",
      "name :  100\n",
      "name :  200\n",
      "----------\n"
     ]
    }
   ],
   "source": [
    "for p in players:\n",
    "    print('name : ' +p.name)\n",
    "    print('name : ',p.hp)\n",
    "    print('name : ',p.mp)\n",
    "    print('name : ',p.ap)\n",
    "    print('-'*10)"
   ]
  },
  {
   "cell_type": "markdown",
   "metadata": {},
   "source": [
    "```\n",
    "SIH_Class\n",
    "맴버변수 :\n",
    "students = []\n",
    "main_teacher = '본인 담임 선생님'\n",
    "sub_teachers = '과목 선생님들을 딕셔너리 형태로 저장'\n",
    "과목 : 선생님 이름\n",
    "\n",
    "맴버함함수 : \n",
    "PS : 모든 학생들을 출력\n",
    "addST : 학생 추가\n",
    "MT : 담임 선생님 출력\n",
    "ST : 과목 선생님들 출력\n",
    "addST : 과목 선생님을 추가\n",
    "```"
   ]
  },
  {
   "cell_type": "code",
   "execution_count": 209,
   "metadata": {},
   "outputs": [],
   "source": [
    "class SIH_Class:\n",
    "    def __init__(self, main_teacher) -> None:\n",
    "        self.stuents = ['stive','alex','tim','tom']\n",
    "        self.main_teacher = main_teacher\n",
    "        self.sub_teachers = {'english' : 'chan'}\n",
    "\n",
    "    def Print_students(self):\n",
    "        for student in self.stuents:\n",
    "            print(student, end = ' ')\n",
    "            # print(*self.students) 로 하면 for문 없이 가능\n",
    "\n",
    "    def add_students(self,students):\n",
    "        self.stuents += (students.split())\n",
    "\n",
    "    def print_mt(self):\n",
    "        print(self.main_teacher)\n",
    "\n",
    "    def print_st(self):\n",
    "        for k,v in self.sub_teachers.items():\n",
    "            print(k,v)\n",
    "            #print(self.sub_teachers[k],self.sub_teachers[v])"
   ]
  },
  {
   "cell_type": "code",
   "execution_count": 210,
   "metadata": {},
   "outputs": [],
   "source": [
    "my_class = SIH_Class('yentekc')"
   ]
  },
  {
   "cell_type": "code",
   "execution_count": 211,
   "metadata": {},
   "outputs": [
    {
     "data": {
      "text/plain": [
       "'yentekc'"
      ]
     },
     "execution_count": 211,
     "metadata": {},
     "output_type": "execute_result"
    }
   ],
   "source": [
    "my_class.main_teacher"
   ]
  },
  {
   "cell_type": "code",
   "execution_count": 213,
   "metadata": {},
   "outputs": [
    {
     "name": "stdout",
     "output_type": "stream",
     "text": [
      "stive alex tim tom felix jams emma "
     ]
    }
   ],
   "source": [
    "my_class.Print_students()"
   ]
  },
  {
   "cell_type": "code",
   "execution_count": 212,
   "metadata": {},
   "outputs": [],
   "source": [
    "my_class.add_students('felix jams emma')"
   ]
  },
  {
   "cell_type": "code",
   "execution_count": 214,
   "metadata": {},
   "outputs": [
    {
     "name": "stdout",
     "output_type": "stream",
     "text": [
      "yentekc\n"
     ]
    }
   ],
   "source": [
    "my_class.print_mt()"
   ]
  },
  {
   "cell_type": "code",
   "execution_count": 215,
   "metadata": {},
   "outputs": [
    {
     "name": "stdout",
     "output_type": "stream",
     "text": [
      "english chan\n"
     ]
    }
   ],
   "source": [
    "my_class.print_st()"
   ]
  }
 ],
 "metadata": {
  "kernelspec": {
   "display_name": "Python 3",
   "language": "python",
   "name": "python3"
  },
  "language_info": {
   "codemirror_mode": {
    "name": "ipython",
    "version": 3
   },
   "file_extension": ".py",
   "mimetype": "text/x-python",
   "name": "python",
   "nbconvert_exporter": "python",
   "pygments_lexer": "ipython3",
   "version": "3.12.3"
  }
 },
 "nbformat": 4,
 "nbformat_minor": 2
}
