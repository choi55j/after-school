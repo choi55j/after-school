{
 "cells": [
  {
   "cell_type": "code",
   "execution_count": 1,
   "id": "2451e93f-e91f-4dc7-8c48-71d079261ac5",
   "metadata": {},
   "outputs": [],
   "source": [
    "import pandas as pd\n",
    "import numpy as np\n",
    "import random as rnd\n",
    "import seaborn as sns\n",
    "import matplotlib.pyplot as plt\n",
    "%matplotlib inline\n",
    "from sklearn.linear_model import LogisticRegression \n",
    "from sklearn.svm import SVC, LinearSVC\n",
    "from sklearn.ensemble import RandomForestClassifier\n",
    "from sklearn.neighbors import KNeighborsClassifier\n",
    "from sklearn.naive_bayes import GaussianNB\n",
    "from sklearn.linear_model import Perceptron\n",
    "from sklearn.linear_model import SGDClassifier\n",
    "from sklearn.tree import DecisionTreeClassifier\n",
    "import warnings\n",
    "warnings.filterwarnings(action='ignore')"
   ]
  },
  {
   "cell_type": "code",
   "execution_count": null,
   "id": "74f8c55f-78f1-416a-ac6a-af41fd442f3f",
   "metadata": {},
   "outputs": [],
   "source": [
    "train_df= pd.read_csv(\"titanic/train.csv\") # 모델 학습에 사용되는 데이터\n",
    "test_df= pd.read_csv(\"titanic/test.csv\") # 모델 적용 대상이 되는 데이터\n",
    "combine= [train_df,test_df ] # 모델 적용의 일관성을 위해\n",
    "                            #combine으로 두 개의 dataset을 같이 실행."
   ]
  },
  {
   "cell_type": "code",
   "execution_count": null,
   "id": "6b8d1f58-b7b5-467d-a8d8-0133ca7678ec",
   "metadata": {},
   "outputs": [],
   "source": [
    "train_df.columns.values # 변수 보기\n",
    "# categorical(범주형): Survived, Sex, Embarked, Ordinal(순서수): Pclass, Continous(연속형): Age, Fare. Discrete(이산적): SibSp, Parch."
   ]
  },
  {
   "cell_type": "code",
   "execution_count": null,
   "id": "e9ff1e45-bacc-4ba7-9c45-b2763a95e15c",
   "metadata": {},
   "outputs": [],
   "source": []
  }
 ],
 "metadata": {
  "kernelspec": {
   "display_name": "Python 3 (ipykernel)",
   "language": "python",
   "name": "python3"
  },
  "language_info": {
   "codemirror_mode": {
    "name": "ipython",
    "version": 3
   },
   "file_extension": ".py",
   "mimetype": "text/x-python",
   "name": "python",
   "nbconvert_exporter": "python",
   "pygments_lexer": "ipython3",
   "version": "3.10.9"
  }
 },
 "nbformat": 4,
 "nbformat_minor": 5
}
