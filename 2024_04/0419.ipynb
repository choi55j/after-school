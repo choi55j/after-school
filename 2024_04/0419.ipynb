{
 "cells": [
  {
   "cell_type": "code",
   "execution_count": 2,
   "id": "86ca2916",
   "metadata": {},
   "outputs": [
    {
     "name": "stdout",
     "output_type": "stream",
     "text": [
      "1\n",
      "2\n",
      "3\n",
      "4\n",
      "5\n",
      "6\n",
      "7\n",
      "8\n",
      "9\n",
      "10\n"
     ]
    }
   ],
   "source": [
    "for i in range(0,10):\n",
    "    i+=1\n",
    "    print(i)"
   ]
  },
  {
   "cell_type": "code",
   "execution_count": 6,
   "id": "7a907f07",
   "metadata": {},
   "outputs": [
    {
     "name": "stdout",
     "output_type": "stream",
     "text": [
      "2\n",
      "4\n",
      "6\n",
      "8\n",
      "10\n"
     ]
    }
   ],
   "source": [
    "for i in range(1,11):\n",
    "    if i%2==0:\n",
    "        print(i)"
   ]
  },
  {
   "cell_type": "code",
   "execution_count": 12,
   "id": "59dc502d",
   "metadata": {},
   "outputs": [
    {
     "name": "stdout",
     "output_type": "stream",
     "text": [
      "5\n",
      "5\n",
      "10\n",
      "15\n",
      "20\n",
      "25\n",
      "30\n",
      "35\n",
      "40\n",
      "45\n"
     ]
    }
   ],
   "source": [
    "gu = int(input())\n",
    "for i in range(1,10):\n",
    "    print(gu*i)"
   ]
  },
  {
   "cell_type": "code",
   "execution_count": 35,
   "id": "22047e8e",
   "metadata": {},
   "outputs": [
    {
     "name": "stdout",
     "output_type": "stream",
     "text": [
      "3\n"
     ]
    }
   ],
   "source": [
    "n = int(input())\n",
    "\n",
    "if n>1:\n",
    "    for i in range(2, n//2 + 1):\n",
    "        if (n%i)==0:\n",
    "            print(n,'은 소수가 아닙니다')\n",
    "            break\n",
    "        else:\n",
    "            print(n,'은 소수 입니다')\n",
    "else:\n",
    "    print(n,'은 소수가 아닙니다')"
   ]
  },
  {
   "cell_type": "code",
   "execution_count": 36,
   "id": "e58ca69b",
   "metadata": {},
   "outputs": [
    {
     "data": {
      "text/plain": [
       "3"
      ]
     },
     "execution_count": 36,
     "metadata": {},
     "output_type": "execute_result"
    }
   ],
   "source": [
    "def add(a,b):\n",
    "    return a+b\n",
    "\n",
    "c=add(1,2)\n",
    "\n",
    "c"
   ]
  },
  {
   "cell_type": "code",
   "execution_count": null,
   "id": "06a0915c",
   "metadata": {},
   "outputs": [],
   "source": [
    "def add(a,b=2):\n",
    "    return a+b\n",
    "\n",
    "c=add(1)\n",
    "\n",
    "c"
   ]
  },
  {
   "cell_type": "code",
   "execution_count": null,
   "id": "60cf1f45",
   "metadata": {},
   "outputs": [],
   "source": [
    "def add(a,b,c):\n",
    "    return a+b+c\n",
    "\n",
    "c=add(1,2,3)\n",
    "\n",
    "c"
   ]
  },
  {
   "cell_type": "code",
   "execution_count": 38,
   "id": "8c6179ea",
   "metadata": {},
   "outputs": [
    {
     "data": {
      "text/plain": [
       "-1"
      ]
     },
     "execution_count": 38,
     "metadata": {},
     "output_type": "execute_result"
    }
   ],
   "source": [
    "def sub(a,b):\n",
    "    return a-b\n",
    "c=sub(1,2)\n",
    "\n",
    "c"
   ]
  },
  {
   "cell_type": "code",
   "execution_count": 43,
   "id": "82ca62c3",
   "metadata": {},
   "outputs": [
    {
     "data": {
      "text/plain": [
       "3"
      ]
     },
     "execution_count": 43,
     "metadata": {},
     "output_type": "execute_result"
    }
   ],
   "source": [
    "def add(a,b=2):\n",
    "    return a+b\n",
    "\n",
    "def sub(a,b):\n",
    "    return a-b\n",
    "\n",
    "\n",
    "def cal(ca,a,b):\n",
    "    if ca=='+':\n",
    "        return a+b\n",
    "    elif ca =='-':\n",
    "        return a-b\n",
    "    else:\n",
    "        return False\n",
    "r=cal('+',1,2)\n",
    "r"
   ]
  },
  {
   "cell_type": "code",
   "execution_count": 46,
   "id": "86f7aa72",
   "metadata": {
    "scrolled": true
   },
   "outputs": [
    {
     "data": {
      "text/plain": [
       "2"
      ]
     },
     "execution_count": 46,
     "metadata": {},
     "output_type": "execute_result"
    }
   ],
   "source": [
    "a = 1\n",
    "def var():\n",
    "    global a\n",
    "    a=a+1\n",
    "    return a\n",
    "    \n",
    "c=var()\n",
    "c"
   ]
  },
  {
   "cell_type": "code",
   "execution_count": 47,
   "id": "15ad55ad",
   "metadata": {},
   "outputs": [
    {
     "data": {
      "text/plain": [
       "7"
      ]
     },
     "execution_count": 47,
     "metadata": {},
     "output_type": "execute_result"
    }
   ],
   "source": [
    "add = lambda a,b: a+b\n",
    "result = add(3,4)\n",
    "result"
   ]
  },
  {
   "cell_type": "code",
   "execution_count": 56,
   "id": "8fc5d840",
   "metadata": {},
   "outputs": [],
   "source": [
    "f = open(\"hello.txt\",'w')\n",
    "\n",
    "for i in range(1,11):\n",
    "    data = '%d 번째 줄 입니다. \\n' % i\n",
    "    f.write(data)\n",
    "f.close()"
   ]
  },
  {
   "cell_type": "code",
   "execution_count": 55,
   "id": "589eb68c",
   "metadata": {},
   "outputs": [
    {
     "name": "stdout",
     "output_type": "stream",
     "text": [
      "1 번째 줄 입니다. \n",
      "2 번째 줄 입니다. \n",
      "3 번째 줄 입니다. \n",
      "4 번째 줄 입니다. \n",
      "5 번째 줄 입니다. \n",
      "6 번째 줄 입니다. \n",
      "7 번째 줄 입니다. \n",
      "8 번째 줄 입니다. \n",
      "9 번째 줄 입니다. \n",
      "10 번째 줄 입니다. \n"
     ]
    }
   ],
   "source": [
    "f = open(\"hello.txt\",'r')\n",
    "\n",
    "while True:\n",
    "    l = f.readline()\n",
    "    if not l : break\n",
    "    print(l, end='')\n",
    "        \n",
    "f.close()"
   ]
  },
  {
   "cell_type": "code",
   "execution_count": 138,
   "id": "dd591c83",
   "metadata": {},
   "outputs": [
    {
     "data": {
      "text/plain": [
       "4"
      ]
     },
     "execution_count": 138,
     "metadata": {},
     "output_type": "execute_result"
    }
   ],
   "source": [
    "class  Calculator():\n",
    "    def __init__(self,sum):\n",
    "        self.sum = sum\n",
    "        self.result = 0\n",
    "        \n",
    "    def add(self,num):\n",
    "        self.result = self.sum + num\n",
    "        return self.result\n",
    "    \n",
    "cal1 = Calculator(1) # 생성자 불러오기\n",
    "cal2 = Calculator(2)\n",
    "\n",
    "r=cal1.add(3)\n",
    "r"
   ]
  },
  {
   "cell_type": "code",
   "execution_count": 139,
   "id": "b3021cdd",
   "metadata": {
    "scrolled": true
   },
   "outputs": [
    {
     "data": {
      "text/plain": [
       "4"
      ]
     },
     "execution_count": 139,
     "metadata": {},
     "output_type": "execute_result"
    }
   ],
   "source": [
    "r1 = cal1.add(3)\n",
    "r1"
   ]
  }
 ],
 "metadata": {
  "kernelspec": {
   "display_name": "Python 3 (ipykernel)",
   "language": "python",
   "name": "python3"
  },
  "language_info": {
   "codemirror_mode": {
    "name": "ipython",
    "version": 3
   },
   "file_extension": ".py",
   "mimetype": "text/x-python",
   "name": "python",
   "nbconvert_exporter": "python",
   "pygments_lexer": "ipython3",
   "version": "3.10.9"
  }
 },
 "nbformat": 4,
 "nbformat_minor": 5
}
