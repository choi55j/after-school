{
 "cells": [
  {
   "cell_type": "code",
   "execution_count": 1,
   "id": "febdd67f",
   "metadata": {
    "scrolled": false
   },
   "outputs": [
    {
     "name": "stdout",
     "output_type": "stream",
     "text": [
      "윤지 공주의 전화번호는 : 010-5899-8698입니다\n"
     ]
    }
   ],
   "source": [
    "j='010-5899-8698'\n",
    "print(f'윤지 공주의 전화번호는 : {j}입니다')"
   ]
  },
  {
   "cell_type": "code",
   "execution_count": 21,
   "id": "de630683",
   "metadata": {},
   "outputs": [
    {
     "name": "stdout",
     "output_type": "stream",
     "text": [
      "이름: 홍길동\n",
      "학번: 20210001\n",
      "학년: 2\n"
     ]
    }
   ],
   "source": [
    "class Student:\n",
    "    def __init__(self, name, student_id, grade=1): # 생성자\n",
    "        self.name= name\n",
    "        self.student_id = student_id\n",
    "        self.grade = grade\n",
    "        \n",
    "    def display_info(self):\n",
    "        print(\"이름:\", self.name)\n",
    "        print(\"학번:\", self.student_id)\n",
    "        print(\"학년:\", self.grade)\n",
    "    \n",
    "    def change_grade(self, new_grade):\n",
    "        self.garde = new_grade\n",
    "        \n",
    "student1 = Student(\"홍길동\", \"20210001\", 2)\n",
    "student2 = Student(\"이순신\", \"20210002\")\n",
    "# student1.display_info()\n",
    "# student2.display_info()\n",
    "\n",
    "student1.change_grade(2)\n",
    "student1.display_info()"
   ]
  },
  {
   "cell_type": "code",
   "execution_count": null,
   "id": "d932fd48",
   "metadata": {},
   "outputs": [],
   "source": []
  }
 ],
 "metadata": {
  "kernelspec": {
   "display_name": "Python 3 (ipykernel)",
   "language": "python",
   "name": "python3"
  },
  "language_info": {
   "codemirror_mode": {
    "name": "ipython",
    "version": 3
   },
   "file_extension": ".py",
   "mimetype": "text/x-python",
   "name": "python",
   "nbconvert_exporter": "python",
   "pygments_lexer": "ipython3",
   "version": "3.10.9"
  }
 },
 "nbformat": 4,
 "nbformat_minor": 5
}
