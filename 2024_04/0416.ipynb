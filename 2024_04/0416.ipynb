{
 "cells": [
  {
   "cell_type": "code",
   "execution_count": 26,
   "id": "7af43d56",
   "metadata": {
    "scrolled": true
   },
   "outputs": [
    {
     "name": "stdout",
     "output_type": "stream",
     "text": [
      "음료 종류로는 ['1 : 제로콜라', '2 : 콜라', '3 : 사이다', '4 : 알로에 주스', '5 : 오랜지 주스']들이 있어요! 뭐 마쉴?? \n",
      "몇 번 음료를 드실래요?? 2\n",
      "2 : 콜라를 고르셨네요\n",
      "1500원 입니다.\n",
      "지폐 또는 동전을 투입해 주세요 2000\n",
      "음료와 500원을 돌려드립니다\n",
      "1번 : 다시 구매    2번 : 구매 끝2\n",
      "몇 번 음료를 드실래요?? 2\n",
      "2 : 콜라를 고르셨네요\n",
      "1500원 입니다.\n",
      "지폐 또는 동전을 투입해 주세요 2\n",
      "돈이 부족합니다. 1498원을 더 넣어주세요\n",
      "1번 : 다시 구매    2번 : 구매 끝2\n",
      "몇 번 음료를 드실래요?? 2\n",
      "2 : 콜라를 고르셨네요\n",
      "1500원 입니다.\n",
      "지폐 또는 동전을 투입해 주세요 2\n",
      "돈이 부족합니다. 1498원을 더 넣어주세요\n",
      "1번 : 다시 구매    2번 : 구매 끝1\n"
     ]
    }
   ],
   "source": [
    "a=['1 : 제로콜라','2 : 콜라','3 : 사이다','4 : 알로에 주스','5 : 오랜지 주스']\n",
    "# b=[2000,1500,1800,1500,1500]\n",
    "print(f'음료 종류로는 {a}들이 있어요! 뭐 마쉴?? ')\n",
    "\n",
    "while True:\n",
    "    c = int(input('몇 번 음료를 드실래요?? '))\n",
    "    if c==1:\n",
    "        print(f'{a[0]}를 고르셨네요')\n",
    "    elif c==2:\n",
    "        print(f'{a[1]}를 고르셨네요')\n",
    "    elif c==3:\n",
    "        print(f'{a[2]}를 고르셨네요')\n",
    "    elif c==4:\n",
    "        print(f'{a[3]}를 고르셨네요')\n",
    "    elif c==5:\n",
    "        print(f'{a[4]}를 고르셨네요')\n",
    "    else:\n",
    "        print('너 잘 못 골랐어')\n",
    "    if c==1:\n",
    "        b=2000\n",
    "        print(f'{b}원 입니다.')\n",
    "    elif c==2:\n",
    "        b=1500\n",
    "        print(f'{b}원 입니다.')\n",
    "    elif c==3:\n",
    "        b=1800\n",
    "        print(f'{b}원 입니다.')\n",
    "    elif c==4:\n",
    "        b=1500\n",
    "        print(f'{b}원 입니다.')\n",
    "    elif c==5:\n",
    "        b=1500\n",
    "        print(f'{b}원 입니다.')\n",
    "    else:\n",
    "        print('잘못된 번호를 누르셨네요')\n",
    "\n",
    "    d=int(input('지폐 또는 동전을 투입해 주세요 '))\n",
    "    if d==b:\n",
    "        print('음료가 나갑니다')\n",
    "    elif d>b:\n",
    "        print(f'음료와 {d-b}원을 돌려드립니다')\n",
    "    else:\n",
    "        print(f'돈이 부족합니다. {b-d}원을 더 넣어주세요')\n",
    "    y=int(input('1번 : 구매 끝    2번 : 다시 구매'))\n",
    "    if y==1:\n",
    "        break"
   ]
  },
  {
   "cell_type": "code",
   "execution_count": 74,
   "id": "7ffb6e5d",
   "metadata": {},
   "outputs": [
    {
     "name": "stdout",
     "output_type": "stream",
     "text": [
      "     *\n",
      "    ***\n",
      "   *****\n",
      "  *******\n",
      " *********\n"
     ]
    }
   ],
   "source": [
    "for i in range(1,6):\n",
    "    blank = 6-i\n",
    "    stars = i*2-1\n",
    "    print(' '*blank, end='')\n",
    "    print('*'*stars, end='')\n",
    "    print('')"
   ]
  },
  {
   "cell_type": "code",
   "execution_count": 84,
   "id": "a5a6eb2c",
   "metadata": {
    "scrolled": true
   },
   "outputs": [],
   "source": [
    "import tkinter as tk\n",
    "\n",
    "# 버튼 클릭시 실행될 함수\n",
    "def change_label_text():\n",
    "    if label.cget('text') == \"Hello, kinter!\":\n",
    "        label.config(text=\"button clicked\")\n",
    "    else:\n",
    "        label.config(text=\"하이 수혁\")\n",
    "\n",
    "#윈도우 설정\n",
    "window = tk.Tk()\n",
    "window.title('tkinter example') # 윈도우 제목 설정\n",
    "window.geometry(\"400x300\")\n",
    "\n",
    "# 라벨 생성\n",
    "label = tk.Label(window, text=\"Hello, tkinter\", padx=20,pady=10)\n",
    "label.pack() # 라벨을 윈도우에 배치\n",
    "# 버튼 생성\n",
    "button = tk.Button(window, text='click me', command=change_label_text)\n",
    "button.pack()\n",
    "\n",
    "\n",
    "# 윈도우 표시\n",
    "window.mainloop()"
   ]
  }
 ],
 "metadata": {
  "kernelspec": {
   "display_name": "Python 3 (ipykernel)",
   "language": "python",
   "name": "python3"
  },
  "language_info": {
   "codemirror_mode": {
    "name": "ipython",
    "version": 3
   },
   "file_extension": ".py",
   "mimetype": "text/x-python",
   "name": "python",
   "nbconvert_exporter": "python",
   "pygments_lexer": "ipython3",
   "version": "3.10.9"
  }
 },
 "nbformat": 4,
 "nbformat_minor": 5
}
