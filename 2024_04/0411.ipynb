{
 "cells": [
  {
   "cell_type": "code",
   "execution_count": 11,
   "id": "a613fa4a",
   "metadata": {},
   "outputs": [
    {
     "data": {
      "text/plain": [
       "{'월': 'MON',\n",
       " '화': 'TUE',\n",
       " '수': 'WED',\n",
       " '목': 'THR',\n",
       " '금': 'FRI',\n",
       " '토': 'SAT',\n",
       " '일요일': 'SUN'}"
      ]
     },
     "execution_count": 11,
     "metadata": {},
     "output_type": "execute_result"
    }
   ],
   "source": [
    "week={'월':'MON','화':'TUE','수':'WED','목':'THR','금':'FRI','토':'SAT','일요일':'SUN'}\n",
    "week"
   ]
  },
  {
   "cell_type": "code",
   "execution_count": 28,
   "id": "01171bea",
   "metadata": {
    "scrolled": true
   },
   "outputs": [
    {
     "name": "stdout",
     "output_type": "stream",
     "text": [
      "몇명 입력하실건가요?2\n",
      "학번을 입력하시오 30916\n",
      "이름을 입력하시오 chlkt\n",
      "나이를 입력하시오 19\n",
      "성별을 입력하시오 skawk\n",
      "{'30916': ['chlkt', '19', 'skawk']}\n",
      "학번을 입력하시오 30917\n",
      "이름을 입력하시오 skfjlk\n",
      "나이를 입력하시오 saoif\n",
      "성별을 입력하시오 asfoi\n",
      "{'30917': ['skfjlk', 'saoif', 'asfoi']}\n",
      "['skfjlk', 'saoif', 'asfoi']\n",
      "['skfjlk', 'saoif', 'asfoi']\n"
     ]
    }
   ],
   "source": [
    "# key를 학번으로 value를 이름 나이 성별 ~ ~ ~로 받아서 딕셔너리 형태로 바꿔서 출력\n",
    "ㅠ=int(input('몇명 입력하실건가요?'))\n",
    "for i in range(ㅠ):\n",
    "    h=input('학번을 입력하시오 ')\n",
    "    n=input('이름을 입력하시오 ')\n",
    "    a=input('나이를 입력하시오 ')\n",
    "    g=input('성별을 입력하시오 ')\n",
    "    di={h:[n,a,g]}\n",
    "    print(di)\n",
    "for j in range(ㅠ):\n",
    "    print(di[h])"
   ]
  },
  {
   "cell_type": "code",
   "execution_count": 29,
   "id": "6f34567c",
   "metadata": {},
   "outputs": [],
   "source": [
    "import shelve"
   ]
  },
  {
   "cell_type": "code",
   "execution_count": 36,
   "id": "9ace63be",
   "metadata": {},
   "outputs": [],
   "source": [
    "def save(key, value):\n",
    "    with shelve.open('shelve.dat') as d:\n",
    "        d[key] = value"
   ]
  },
  {
   "cell_type": "code",
   "execution_count": 37,
   "id": "15a2a6b3",
   "metadata": {},
   "outputs": [],
   "source": [
    "def get(key):\n",
    "    with shelve.open('shelve.dat') as d:\n",
    "        return d[key]"
   ]
  },
  {
   "cell_type": "code",
   "execution_count": 34,
   "id": "40fdc94b",
   "metadata": {},
   "outputs": [
    {
     "name": "stdout",
     "output_type": "stream",
     "text": [
      "[1, 2, 3, 4, 5]\n"
     ]
    }
   ],
   "source": [
    "save('number',[1,2,3,4,5])\n",
    "print(get('number')) # [1,2,3,4,5] 출력"
   ]
  },
  {
   "cell_type": "code",
   "execution_count": 40,
   "id": "b33f66cb",
   "metadata": {},
   "outputs": [
    {
     "name": "stdout",
     "output_type": "stream",
     "text": [
      "학번을 입력하시오 30916\n",
      "이름을 입력하시오 최수혁\n",
      "나이를 입력하시오 19\n",
      "성별을 입력하시오 남자\n",
      "['최수혁', '19', '남자']\n"
     ]
    }
   ],
   "source": [
    "h=input('학번을 입력하시오 ')\n",
    "\n",
    "n=input('이름을 입력하시오 ')\n",
    "a=input('나이를 입력하시오 ')\n",
    "g=input('성별을 입력하시오 ')\n",
    "\n",
    "save(h,[n,a,g])\n",
    "print(get(h))"
   ]
  },
  {
   "cell_type": "code",
   "execution_count": 62,
   "id": "41b8e2a7",
   "metadata": {},
   "outputs": [
    {
     "name": "stdout",
     "output_type": "stream",
     "text": [
      "\n",
      "1. 학생 정보 추가\n",
      "2. 학생 정보 검색\n",
      "3. 종료\n",
      "선택하세요3\n"
     ]
    }
   ],
   "source": [
    "def add_student_info(student_dict):\n",
    "    #학생 정보 입력받기\n",
    "    student_number=input('학번을 입력하시오 ')\n",
    "    name=input('이름을 입력하시오 ')\n",
    "    age=input('나이를 입력하시오 ')\n",
    "    major=input('전공을 입력하시오 ')\n",
    "    \n",
    "    #학생 정보를 딕셔너리에 추가\n",
    "    student_dict[student_number]={'name':name,'age':age,'major':major}\n",
    "    \n",
    "def search_student_info(student_dict):\n",
    "    # 검색할 학생 번호 입력 받기\n",
    "    student_number = input(\"검색할 학생 번호를 입력하세요 \")\n",
    "    \n",
    "    # 학생 정보 출력\n",
    "    if student_number in student_dict:\n",
    "        info = student_dict[student_number]\n",
    "        print(f\"학생 번호: {student_number},이름: {info['name']}, 나이: {info['age']}, 전공: {info['major']}\")\n",
    "    else:\n",
    "        print(\"해당하는 학생의 정보를 찾을 수 없습니다\")\n",
    "def main():\n",
    "    # shelve 파일 열기 (파일이 없으면 새로 생성됨)\n",
    "    with shelve.open('student_data') as shelf:\n",
    "        # 저장된 학생 정보가 있는 확인\n",
    "        if 'students' not in shelf:\n",
    "            shelf['students'] = {}\n",
    "            \n",
    "        # 학생 정보 딕셔너리 가져오기\n",
    "        student_dict = shelf['students']\n",
    "        while True:\n",
    "            print(\"\\n1. 학생 정보 추가\")\n",
    "            print(\"2. 학생 정보 검색\")\n",
    "            print(\"3. 종료\")\n",
    "            \n",
    "            choice = input(\"선택하세요\")\n",
    "            \n",
    "            if choice ==\"1\":\n",
    "                add_student_info(student_dict)\n",
    "            elif choice ==\"2\":\n",
    "                search_student_info(student_dict)\n",
    "            elif choice ==\"3\":\n",
    "                break\n",
    "            else:\n",
    "                print(\"올바른 선택이 안닙니다. 다시 선택해 주세요.\")\n",
    "                \n",
    "        # 학생 정보 딕셔너리 저장\n",
    "        shelf['students']=student_dict\n",
    "        \n",
    "if __name__ ==\"__main__\":\n",
    "    main()"
   ]
  }
 ],
 "metadata": {
  "kernelspec": {
   "display_name": "Python 3 (ipykernel)",
   "language": "python",
   "name": "python3"
  },
  "language_info": {
   "codemirror_mode": {
    "name": "ipython",
    "version": 3
   },
   "file_extension": ".py",
   "mimetype": "text/x-python",
   "name": "python",
   "nbconvert_exporter": "python",
   "pygments_lexer": "ipython3",
   "version": "3.10.9"
  }
 },
 "nbformat": 4,
 "nbformat_minor": 5
}
