{
 "cells": [
  {
   "cell_type": "code",
   "execution_count": 1,
   "id": "cb2ad2e7",
   "metadata": {},
   "outputs": [
    {
     "name": "stdout",
     "output_type": "stream",
     "text": [
      "4950\n"
     ]
    }
   ],
   "source": [
    "sum=0\n",
    "for i in range(1,100):\n",
    "    sum+=i\n",
    "print(sum)"
   ]
  },
  {
   "cell_type": "code",
   "execution_count": 2,
   "id": "e789b098",
   "metadata": {},
   "outputs": [
    {
     "name": "stdout",
     "output_type": "stream",
     "text": [
      "Hi,Hello world\n"
     ]
    }
   ],
   "source": [
    "def print_hi(name):\n",
    "    print(f'Hi,{name}')\n",
    "    \n",
    "if __name__ == '__main__':\n",
    "    print_hi('Hello world')"
   ]
  },
  {
   "cell_type": "code",
   "execution_count": 3,
   "id": "5fea4bff",
   "metadata": {},
   "outputs": [
    {
     "name": "stdout",
     "output_type": "stream",
     "text": [
      "['Jessa', 'Kelly', 20, 35.75]\n",
      "<class 'list'>\n",
      "Jessa\n"
     ]
    }
   ],
   "source": [
    "my_list = [\"Jessa\",\"Kelly\", 20, 35.75]\n",
    "# display list\n",
    "print(my_list)\n",
    "print(type(my_list)) # class 'list'\n",
    "# Accessing first elment of list\n",
    "print(my_list[0]) # Jessa"
   ]
  },
  {
   "cell_type": "code",
   "execution_count": 4,
   "id": "0bbcbbdf",
   "metadata": {},
   "outputs": [
    {
     "name": "stdout",
     "output_type": "stream",
     "text": [
      "['Kelly', 20, 35.75]\n",
      "Emma\n"
     ]
    }
   ],
   "source": [
    "# slicing list elements\n",
    "print(my_list[1:5]) # \"[Kelly\", 20, 35.75]\n",
    "\n",
    "# modify 2nd elements of a list\n",
    "my_list[1] = \"Emma\"\n",
    "print(my_list[1]) #Emma\n",
    "\n",
    "# create list using a list class\n",
    "my_list2 = list"
   ]
  },
  {
   "cell_type": "code",
   "execution_count": 6,
   "id": "7b3eed05",
   "metadata": {},
   "outputs": [
    {
     "data": {
      "text/plain": [
       "[4, '1', 'Hello', '3']"
      ]
     },
     "execution_count": 6,
     "metadata": {},
     "output_type": "execute_result"
    }
   ],
   "source": [
    "a=['1','Hello','3']\n",
    "a.insert(0,4)\n",
    "a"
   ]
  },
  {
   "cell_type": "code",
   "execution_count": 14,
   "id": "58de026b",
   "metadata": {},
   "outputs": [
    {
     "data": {
      "text/plain": [
       "[1, 2]"
      ]
     },
     "execution_count": 14,
     "metadata": {},
     "output_type": "execute_result"
    }
   ],
   "source": [
    "a=[1,2,3]\n",
    "a.remove(3)\n",
    "a"
   ]
  },
  {
   "cell_type": "code",
   "execution_count": 10,
   "id": "7098b2bb",
   "metadata": {},
   "outputs": [
    {
     "data": {
      "text/plain": [
       "[2, 3]"
      ]
     },
     "execution_count": 10,
     "metadata": {},
     "output_type": "execute_result"
    }
   ],
   "source": [
    "a=[1,2,3]\n",
    "a.pop(0)\n",
    "a"
   ]
  },
  {
   "cell_type": "code",
   "execution_count": 17,
   "id": "925577e0",
   "metadata": {},
   "outputs": [
    {
     "data": {
      "text/plain": [
       "2"
      ]
     },
     "execution_count": 17,
     "metadata": {},
     "output_type": "execute_result"
    }
   ],
   "source": [
    "a=[1,2,3,1]\n",
    "a.count(1)"
   ]
  },
  {
   "cell_type": "code",
   "execution_count": 19,
   "id": "c65046d3",
   "metadata": {},
   "outputs": [
    {
     "name": "stdout",
     "output_type": "stream",
     "text": [
      "1\n",
      "2\n",
      "3\n"
     ]
    }
   ],
   "source": [
    "for i in [1,2,3]:\n",
    "    print(i)"
   ]
  },
  {
   "cell_type": "code",
   "execution_count": 22,
   "id": "f978e6d6",
   "metadata": {},
   "outputs": [
    {
     "name": "stdout",
     "output_type": "stream",
     "text": [
      "대문자3, 소문자0\n"
     ]
    }
   ],
   "source": [
    "word='This is What I want to say'\n",
    "big,small=0,0\n",
    "for ch in word:\n",
    "    if ch.isupper():\n",
    "        big+=1\n",
    "    elif ch.isupper():\n",
    "        small+=1\n",
    "    \n",
    "print('대문자{}, 소문자{}'.format(big,small))"
   ]
  }
 ],
 "metadata": {
  "kernelspec": {
   "display_name": "Python 3 (ipykernel)",
   "language": "python",
   "name": "python3"
  },
  "language_info": {
   "codemirror_mode": {
    "name": "ipython",
    "version": 3
   },
   "file_extension": ".py",
   "mimetype": "text/x-python",
   "name": "python",
   "nbconvert_exporter": "python",
   "pygments_lexer": "ipython3",
   "version": "3.10.9"
  }
 },
 "nbformat": 4,
 "nbformat_minor": 5
}
