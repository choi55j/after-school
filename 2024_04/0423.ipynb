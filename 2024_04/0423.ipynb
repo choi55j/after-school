{
 "cells": [
  {
   "cell_type": "code",
   "execution_count": 31,
   "id": "4e990bf3-a134-4768-9eef-949a1708977d",
   "metadata": {},
   "outputs": [
    {
     "name": "stdout",
     "output_type": "stream",
     "text": [
      "학번 :  최수혁\n",
      "이름 :  30916\n"
     ]
    }
   ],
   "source": [
    "class student0:\n",
    "    def __init__(self,num,name):\n",
    "        self.name = name\n",
    "        self.num = num\n",
    "        \n",
    "    def get_info(self):\n",
    "        print('학번 : ',self.num)\n",
    "        print('이름 : ',self.name)\n",
    "        \n",
    "    \n",
    "student1 = student(\"최수혁\", \"30916\")\n",
    "\n",
    "student1.get_info()"
   ]
  },
  {
   "cell_type": "code",
   "execution_count": 32,
   "id": "d37f6506-d709-4030-a2cd-eff06973ccce",
   "metadata": {},
   "outputs": [],
   "source": [
    "class student:\n",
    "    num=-1\n",
    "    name=\"\"\n",
    "    \n",
    "    def __init__(self,num,name):\n",
    "        self.name = name\n",
    "        self.num = num\n",
    "        \n",
    "    def get_info(self):\n",
    "        return(self.num,self.name)"
   ]
  },
  {
   "cell_type": "code",
   "execution_count": 33,
   "id": "1a02038f-797f-4db5-9768-bf78755150bb",
   "metadata": {},
   "outputs": [],
   "source": [
    "class room:\n",
    "    num=-1\n",
    "    def __init__(self,num):\n",
    "        self.num = num\n",
    "        self.stu_dict = dict() # 딕셔너리 생성\n",
    "        \n",
    "    def is_in_stu_num(self,num):\n",
    "        if(num in self.stu_dict):\n",
    "            return True\n",
    "        else:\n",
    "            return False\n",
    "    \n",
    "    def get_stu_info(self,num):\n",
    "        try:\n",
    "            return self.stu_dict[num]\n",
    "        except KeyError:\n",
    "            return \"\"\n",
    "    def add_stu(self,stu):\n",
    "        self.stu_dict[stu.get_info()[0]] = stu.get_info()[1]\n",
    "        \n",
    "    def del_stu(self,num):\n",
    "        try:\n",
    "            del self.stu_dict[num]\n",
    "        except KeyError:\n",
    "            pass\n",
    "        \n",
    "    def mod_stu(self, stu_num, stu_name):\n",
    "        try: # error가 나면 except로 넘어가 KeyError을 pass 한다\n",
    "            self.stu_dict[stu_num] = stu_name\n",
    "        except KeyError:\n",
    "            pass"
   ]
  },
  {
   "cell_type": "code",
   "execution_count": 34,
   "id": "519d1c5b-81b2-4877-a075-10c2ae052d55",
   "metadata": {},
   "outputs": [
    {
     "data": {
      "text/plain": [
       "{1: 'hong', 2: 'lee'}"
      ]
     },
     "execution_count": 34,
     "metadata": {},
     "output_type": "execute_result"
    }
   ],
   "source": [
    "student1 = student(1, 'hong')\n",
    "room1 = room(1)\n",
    "\n",
    "room1.add_stu(student1)\n",
    "room1.mod_stu(2,'lee')\n",
    "\n",
    "room1.stu_dict"
   ]
  },
  {
   "cell_type": "code",
   "execution_count": 26,
   "id": "68e83ad8-bc57-40af-8db2-05669a9a8bfc",
   "metadata": {},
   "outputs": [
    {
     "name": "stdin",
     "output_type": "stream",
     "text": [
      "이름을 입력하세요 :  최수혁\n",
      "나이를 입력하세요 :  19\n",
      "도시를 입력하세요 :  성남\n"
     ]
    },
    {
     "name": "stdout",
     "output_type": "stream",
     "text": [
      "{'name': '최수혁', 'age': 19, 'city': '성남'}\n",
      "<class 'dict'>\n"
     ]
    }
   ],
   "source": [
    "my_dict = {}\n",
    "\n",
    "# 사용자로부토 정보 입력받기\n",
    "name = input(\"이름을 입력하세요 : \")\n",
    "age=int(input(\"나이를 입력하세요 : \"))\n",
    "city = input(\"도시를 입력하세요 : \")\n",
    "\n",
    "# 입력 받은 정보로 딕셔너리 업데이트\n",
    "\n",
    "my_dict['name'] = name\n",
    "my_dict['age'] = age\n",
    "my_dict['city'] = city\n",
    "\n",
    "print(my_dict)\n",
    "print(type(my_dict))"
   ]
  }
 ],
 "metadata": {
  "kernelspec": {
   "display_name": "Python 3 (ipykernel)",
   "language": "python",
   "name": "python3"
  },
  "language_info": {
   "codemirror_mode": {
    "name": "ipython",
    "version": 3
   },
   "file_extension": ".py",
   "mimetype": "text/x-python",
   "name": "python",
   "nbconvert_exporter": "python",
   "pygments_lexer": "ipython3",
   "version": "3.10.9"
  }
 },
 "nbformat": 4,
 "nbformat_minor": 5
}
