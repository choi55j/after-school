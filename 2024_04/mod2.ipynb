{
 "cells": [
  {
   "cell_type": "code",
   "execution_count": 61,
   "id": "d304f6ee",
   "metadata": {},
   "outputs": [
    {
     "name": "stdout",
     "output_type": "stream",
     "text": [
      "5\n",
      "1\n"
     ]
    }
   ],
   "source": [
    "import untitled\n",
    "from untitled import sub\n",
    "\n",
    "print(untitled.add(2,3))\n",
    "print(sub(3,2))"
   ]
  },
  {
   "cell_type": "code",
   "execution_count": 67,
   "id": "5540f3fa-1a84-44ff-af05-6a7d80277f71",
   "metadata": {},
   "outputs": [
    {
     "name": "stdout",
     "output_type": "stream",
     "text": [
      "12.56\n",
      "3.14\n"
     ]
    }
   ],
   "source": [
    "import mod3\n",
    "\n",
    "a = mod3.Math()\n",
    "print(a.solv(2))\n",
    "print(mod3.PI)"
   ]
  }
 ],
 "metadata": {
  "kernelspec": {
   "display_name": "Python 3 (ipykernel)",
   "language": "python",
   "name": "python3"
  },
  "language_info": {
   "codemirror_mode": {
    "name": "ipython",
    "version": 3
   },
   "file_extension": ".py",
   "mimetype": "text/x-python",
   "name": "python",
   "nbconvert_exporter": "python",
   "pygments_lexer": "ipython3",
   "version": "3.10.9"
  }
 },
 "nbformat": 4,
 "nbformat_minor": 5
}
