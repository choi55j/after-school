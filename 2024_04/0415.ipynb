{
 "cells": [
  {
   "cell_type": "code",
   "execution_count": 1,
   "id": "93984827",
   "metadata": {},
   "outputs": [
    {
     "name": "stdout",
     "output_type": "stream",
     "text": [
      "{1, 2, 3, 4, 5}\n"
     ]
    }
   ],
   "source": [
    "my_list = [1,2,3,4,2,5]\n",
    "\n",
    "my_set = set(my_list)\n",
    "print(my_set)"
   ]
  },
  {
   "cell_type": "code",
   "execution_count": 2,
   "id": "a68f0f16",
   "metadata": {},
   "outputs": [
    {
     "data": {
      "text/plain": [
       "list"
      ]
     },
     "execution_count": 2,
     "metadata": {},
     "output_type": "execute_result"
    }
   ],
   "source": [
    "type(my_list)"
   ]
  },
  {
   "cell_type": "code",
   "execution_count": 3,
   "id": "fc4b7452",
   "metadata": {},
   "outputs": [],
   "source": [
    "my_list=list(my_set)"
   ]
  },
  {
   "cell_type": "code",
   "execution_count": 5,
   "id": "7e888741",
   "metadata": {},
   "outputs": [
    {
     "data": {
      "text/plain": [
       "{1, 2, 3, 4, 5}"
      ]
     },
     "execution_count": 5,
     "metadata": {},
     "output_type": "execute_result"
    }
   ],
   "source": [
    "my_list = {x for x in range(1,6)}\n",
    "my_list"
   ]
  },
  {
   "cell_type": "code",
   "execution_count": 6,
   "id": "c7ac5d46",
   "metadata": {},
   "outputs": [
    {
     "name": "stdout",
     "output_type": "stream",
     "text": [
      "i: 80\n",
      "i: 75\n",
      "i: 55\n",
      "합계 %d % hap\n"
     ]
    }
   ],
   "source": [
    "grade=[80,75,55]\n",
    "hap=0\n",
    "\n",
    "for i in grade:\n",
    "    print(\"i:\",i)\n",
    "    hap=hap+i\n",
    "    \n",
    "print(\"합계 %d % hap\")"
   ]
  },
  {
   "cell_type": "markdown",
   "id": "7325956a",
   "metadata": {},
   "source": [
    "자연수 13이 홀수인지 짝수인지 판별할 수 있는 방법에 대해 말해 보자."
   ]
  },
  {
   "cell_type": "code",
   "execution_count": 7,
   "id": "39585afc",
   "metadata": {},
   "outputs": [
    {
     "name": "stdout",
     "output_type": "stream",
     "text": [
      "Odd\n"
     ]
    }
   ],
   "source": [
    "if 13%2 ==0:\n",
    "    print(\"Even\")\n",
    "else:\n",
    "    print(\"Odd\")"
   ]
  },
  {
   "cell_type": "markdown",
   "id": "1748a6a8",
   "metadata": {},
   "source": [
    "홍길동 씨의 주민등록번호는 881120-1068234이다. 홍길동 씨의 주민등록번호를 연월일(YYYYMMDD) 부분과 그 뒤의 숫자 부분으로 나누어 출력해 보자."
   ]
  },
  {
   "cell_type": "code",
   "execution_count": 45,
   "id": "9ad5ad36",
   "metadata": {},
   "outputs": [
    {
     "name": "stdout",
     "output_type": "stream",
     "text": [
      "당신은 88년 11월 20일 생입니다!\n",
      "당신은 88년 11월 20일 생입니다!\n"
     ]
    }
   ],
   "source": [
    "a=\"881120-1068234\"\n",
    "year=a[0:2]\n",
    "month=a[2:4]\n",
    "day=a[4:6]\n",
    "\n",
    "s=a.split('-')\n",
    "print(f'당신은 {a[0:2]}년 {a[2:4]}월 {a[4:6]}일 생입니다!')\n",
    "print(f'당신은 {year}년 {month}월 {day}일 생입니다!')"
   ]
  },
  {
   "cell_type": "markdown",
   "id": "c62fa802",
   "metadata": {},
   "source": [
    "주민등록번호 뒷자리의 맨 첫 번째 숫자는 성별을 나타낸다. 주민등록번호에서 성별을 나타내는 숫자를 출력해 보자."
   ]
  },
  {
   "cell_type": "code",
   "execution_count": 13,
   "id": "a05e26d2",
   "metadata": {},
   "outputs": [
    {
     "name": "stdout",
     "output_type": "stream",
     "text": [
      "남성입니다!\n",
      "1\n"
     ]
    }
   ],
   "source": [
    "pin = \"881120-1068234\"\n",
    "if pin[7]==\"2\" or pin[7]=='4':\n",
    "    print('여성입니다!')\n",
    "else:\n",
    "    print('남성입니다!')\n",
    "print(pin[7])"
   ]
  },
  {
   "cell_type": "markdown",
   "id": "e21df8ed",
   "metadata": {},
   "source": [
    "다음과 같은 문자열 a:b:c:d가 있다. 문자열의 replace 함수를 사용하여 a#b#c#d로 바꿔서 출력해 보자."
   ]
  },
  {
   "cell_type": "code",
   "execution_count": 14,
   "id": "c11dd709",
   "metadata": {},
   "outputs": [
    {
     "data": {
      "text/plain": [
       "'a#b#c#d'"
      ]
     },
     "execution_count": 14,
     "metadata": {},
     "output_type": "execute_result"
    }
   ],
   "source": [
    "a=\"a:b:c:d\"\n",
    "\n",
    "a.replace(':','#')"
   ]
  },
  {
   "cell_type": "markdown",
   "id": "f672827c",
   "metadata": {},
   "source": [
    " [1, 3, 5, 4, 2] 리스트를 [5, 4, 3, 2, 1]로 만들어 보자."
   ]
  },
  {
   "cell_type": "code",
   "execution_count": 15,
   "id": "93cb56f4",
   "metadata": {},
   "outputs": [
    {
     "name": "stdout",
     "output_type": "stream",
     "text": [
      "[5, 4, 3, 2, 1]\n"
     ]
    }
   ],
   "source": [
    "a=[1,2,3,4,5]\n",
    "\n",
    "print(a[::-1])"
   ]
  },
  {
   "cell_type": "markdown",
   "id": "2733cf03",
   "metadata": {},
   "source": [
    "['Life', 'is', 'too', 'short'] 리스트를 Life is too short 문자열로 만들어 출력해 보자."
   ]
  },
  {
   "cell_type": "code",
   "execution_count": 18,
   "id": "7ed40d68",
   "metadata": {},
   "outputs": [
    {
     "data": {
      "text/plain": [
       "'Life is too short'"
      ]
     },
     "execution_count": 18,
     "metadata": {},
     "output_type": "execute_result"
    }
   ],
   "source": [
    "a=['Life ', 'is ', 'too ', 'short']\n",
    "\n",
    "\"\".join(a)"
   ]
  },
  {
   "cell_type": "markdown",
   "id": "8b900102",
   "metadata": {},
   "source": [
    "(1,2,3) 튜플에 값 4를 추가하여 (1,2,3,4)를 만들어 출력해 보자."
   ]
  },
  {
   "cell_type": "code",
   "execution_count": 22,
   "id": "c6c9268c",
   "metadata": {
    "scrolled": true
   },
   "outputs": [
    {
     "name": "stdout",
     "output_type": "stream",
     "text": [
      "(1, 2, 3, 4)\n"
     ]
    }
   ],
   "source": [
    "a=(1,2,3)\n",
    "b=(4,)\n",
    "c=a+b\n",
    "print(c)"
   ]
  },
  {
   "cell_type": "markdown",
   "id": "9af26b6c",
   "metadata": {},
   "source": [
    "딕셔너리 a에서 'B'에 해당되는 값을 추출해 보자."
   ]
  },
  {
   "cell_type": "code",
   "execution_count": 25,
   "id": "1ef4e653",
   "metadata": {},
   "outputs": [
    {
     "data": {
      "text/plain": [
       "90"
      ]
     },
     "execution_count": 25,
     "metadata": {},
     "output_type": "execute_result"
    }
   ],
   "source": [
    "a={'A':90,'B':80,'C':70}\n",
    "a.pop('A')"
   ]
  },
  {
   "cell_type": "markdown",
   "id": "7ec391bf",
   "metadata": {},
   "source": [
    "a 리스트에서 중복 숫자를 제거해 보자."
   ]
  },
  {
   "cell_type": "code",
   "execution_count": 27,
   "id": "72c90ad6",
   "metadata": {
    "scrolled": true
   },
   "outputs": [
    {
     "name": "stdout",
     "output_type": "stream",
     "text": [
      "{1, 2, 3, 4, 5}\n"
     ]
    }
   ],
   "source": [
    "a=[1,1,2,2,3,3,4,4,5,]\n",
    "print(set(a)) # set = 중복 삭제"
   ]
  },
  {
   "cell_type": "markdown",
   "id": "2f2b3c61",
   "metadata": {},
   "source": [
    "파이썬은 다음처럼 동일한 값에 여러 개의 변수를 선언할 수 있다. 다음과 같이 a, b 변수를 선언한 후 a의 두 번째 요솟값을 변경하면 b 값은 어떻게 될까? 그리고 이런 결과가 오는 이유에 대해 설명해 보자."
   ]
  },
  {
   "cell_type": "code",
   "execution_count": 28,
   "id": "18ed50c2",
   "metadata": {},
   "outputs": [
    {
     "name": "stdout",
     "output_type": "stream",
     "text": [
      "[1, 4, 3]\n"
     ]
    }
   ],
   "source": [
    "a=b=[1,2,3]\n",
    "a[1] = 4\n",
    "print(b)"
   ]
  },
  {
   "cell_type": "code",
   "execution_count": 51,
   "id": "55eeeae6",
   "metadata": {},
   "outputs": [
    {
     "name": "stdout",
     "output_type": "stream",
     "text": [
      "돈 얼마 있니? 40000\n",
      "스테이크 먹자\n"
     ]
    }
   ],
   "source": [
    "money = int(input('돈 얼마 있니? '))\n",
    "\n",
    "if money >= 40000:\n",
    "    print(\"스테이크 먹자\")\n",
    "else:\n",
    "    print('라면이나 먹어')"
   ]
  },
  {
   "cell_type": "code",
   "execution_count": 57,
   "id": "8951ce03",
   "metadata": {},
   "outputs": [
    {
     "name": "stdout",
     "output_type": "stream",
     "text": [
      "엄카 고고\n"
     ]
    }
   ],
   "source": [
    "money = True\n",
    "card = True\n",
    "\n",
    "if money==True and card ==True:\n",
    "    print('엄카 고고')\n",
    "elif money==False and card == True:\n",
    "    print('엄카 고고')\n",
    "elif money==True and card==False:\n",
    "    print('돈 아끼자 ㅠㅠ')\n",
    "else:\n",
    "    print('그냥 없어 걸어다녀!')"
   ]
  },
  {
   "cell_type": "code",
   "execution_count": 59,
   "id": "57beca5c",
   "metadata": {},
   "outputs": [
    {
     "name": "stdout",
     "output_type": "stream",
     "text": [
      "와 그냥 없어요 돈이 없어요\n"
     ]
    }
   ],
   "source": [
    "money = False\n",
    "card = False\n",
    "\n",
    "if money:\n",
    "    if card:\n",
    "        print('엄카 긁자')\n",
    "    else:\n",
    "        print('아 내 돈은 좀 아까운데..')\n",
    "else:\n",
    "    if card:\n",
    "        print('엄카 긁어!!')\n",
    "    else:\n",
    "        print('와 그냥 없어요 돈이 없어요')"
   ]
  },
  {
   "cell_type": "code",
   "execution_count": 61,
   "id": "87e799be",
   "metadata": {},
   "outputs": [
    {
     "data": {
      "text/plain": [
       "False"
      ]
     },
     "execution_count": 61,
     "metadata": {},
     "output_type": "execute_result"
    }
   ],
   "source": [
    "l=[1,2,3,4]\n",
    "\n",
    "5 in l"
   ]
  },
  {
   "cell_type": "code",
   "execution_count": 70,
   "id": "d386a0ae",
   "metadata": {
    "scrolled": false
   },
   "outputs": [
    {
     "data": {
      "text/plain": [
       "[1, 2, 3, 4, 5]"
      ]
     },
     "execution_count": 70,
     "metadata": {},
     "output_type": "execute_result"
    }
   ],
   "source": [
    "l=[1,5,3,4,2]\n",
    "l.sort()\n",
    "l"
   ]
  },
  {
   "cell_type": "code",
   "execution_count": 72,
   "id": "d34a77d0",
   "metadata": {},
   "outputs": [
    {
     "name": "stdout",
     "output_type": "stream",
     "text": [
      "길이는 : 5\n"
     ]
    }
   ],
   "source": [
    "print(f\"길이는 : {len(l)}\")"
   ]
  },
  {
   "cell_type": "code",
   "execution_count": 78,
   "id": "89d72b49",
   "metadata": {},
   "outputs": [
    {
     "data": {
      "text/plain": [
       "3"
      ]
     },
     "execution_count": 78,
     "metadata": {},
     "output_type": "execute_result"
    }
   ],
   "source": [
    "m=5//2\n",
    "l[m]"
   ]
  },
  {
   "cell_type": "code",
   "execution_count": 91,
   "id": "b26ee851",
   "metadata": {
    "scrolled": true
   },
   "outputs": [
    {
     "data": {
      "text/plain": [
       "[1, 2, 5, 6, 7, 9]"
      ]
     },
     "execution_count": 91,
     "metadata": {},
     "output_type": "execute_result"
    }
   ],
   "source": [
    "a=[2,6,9,7,1,5]\n",
    "a.sort()\n",
    "a"
   ]
  },
  {
   "cell_type": "code",
   "execution_count": 103,
   "id": "00c24c38",
   "metadata": {},
   "outputs": [
    {
     "data": {
      "text/plain": [
       "[5, 6]"
      ]
     },
     "execution_count": 103,
     "metadata": {},
     "output_type": "execute_result"
    }
   ],
   "source": [
    "l=len(a)\n",
    "m=l//2\n",
    "a[m-1:m+1]"
   ]
  },
  {
   "cell_type": "code",
   "execution_count": 106,
   "id": "65da88e2",
   "metadata": {
    "scrolled": true
   },
   "outputs": [
    {
     "name": "stdout",
     "output_type": "stream",
     "text": [
      "Collecting opencv-python\n",
      "  Downloading opencv_python-4.9.0.80-cp37-abi3-win_amd64.whl (38.6 MB)\n",
      "     --------------------------------------- 38.6/38.6 MB 38.6 MB/s eta 0:00:00\n",
      "Requirement already satisfied: numpy>=1.17.3 in c:\\users\\user\\anaconda3\\lib\\site-packages (from opencv-python) (1.23.5)\n",
      "Installing collected packages: opencv-python\n",
      "Successfully installed opencv-python-4.9.0.80\n"
     ]
    }
   ],
   "source": [
    "!pip install opencv-python"
   ]
  },
  {
   "cell_type": "code",
   "execution_count": 1,
   "id": "bd7b6945",
   "metadata": {},
   "outputs": [],
   "source": [
    "import cv2"
   ]
  },
  {
   "cell_type": "code",
   "execution_count": 7,
   "id": "8ce8a79a",
   "metadata": {
    "scrolled": true
   },
   "outputs": [
    {
     "ename": "AttributeError",
     "evalue": "module 'cv2' has no attribute 'destroyAllwindows'",
     "output_type": "error",
     "traceback": [
      "\u001b[1;31m---------------------------------------------------------------------------\u001b[0m",
      "\u001b[1;31mAttributeError\u001b[0m                            Traceback (most recent call last)",
      "Cell \u001b[1;32mIn[7], line 12\u001b[0m\n\u001b[0;32m     10\u001b[0m cv2\u001b[38;5;241m.\u001b[39mwaitKey(\u001b[38;5;241m0\u001b[39m)\n\u001b[0;32m     11\u001b[0m \u001b[38;5;66;03m#모든 윈도우 닫기\u001b[39;00m\n\u001b[1;32m---> 12\u001b[0m \u001b[43mcv2\u001b[49m\u001b[38;5;241;43m.\u001b[39;49m\u001b[43mdestroyAllwindows\u001b[49m()\n",
      "\u001b[1;31mAttributeError\u001b[0m: module 'cv2' has no attribute 'destroyAllwindows'"
     ]
    }
   ],
   "source": [
    "image_path = 'sample.jpeg'\n",
    "# 이미지 로드\n",
    "image = cv2.imread(image_path)\n",
    "# 이미지 흑백 변환\n",
    "gray_image = cv2.cvtColor(image, cv2.COLOR_BGR2GRAY)\n",
    "#윈도우에 이미지 표시\n",
    "#cv2.imshow('Original image',image) #색깔로 표시\n",
    "cv2.imshow('Gray image', gray_image) #흑백으로 표시\n",
    "#키 입력 대기 (아무키나 누르면 윈도우 닫힘)\n",
    "cv2.waitKey(0)\n",
    "#모든 윈도우 닫기\n",
    "cv2.destroyAllwindows()"
   ]
  },
  {
   "cell_type": "code",
   "execution_count": 14,
   "id": "10759f31",
   "metadata": {},
   "outputs": [
    {
     "data": {
      "text/plain": [
       "array([[244, 245, 245, ..., 244, 244, 244],\n",
       "       [246, 246, 246, ..., 244, 244, 244],\n",
       "       [246, 246, 245, ..., 244, 244, 244],\n",
       "       ...,\n",
       "       [232, 233, 233, ..., 232, 232, 233],\n",
       "       [232, 232, 232, ..., 231, 231, 231],\n",
       "       [232, 233, 233, ..., 230, 229, 228]], dtype=uint8)"
      ]
     },
     "execution_count": 14,
     "metadata": {},
     "output_type": "execute_result"
    }
   ],
   "source": [
    "gray_image"
   ]
  },
  {
   "cell_type": "code",
   "execution_count": 15,
   "id": "d27298f6",
   "metadata": {},
   "outputs": [
    {
     "data": {
      "text/plain": [
       "array([[[244, 244, 244],\n",
       "        [245, 245, 245],\n",
       "        [245, 244, 246],\n",
       "        ...,\n",
       "        [244, 243, 245],\n",
       "        [244, 243, 245],\n",
       "        [244, 243, 245]],\n",
       "\n",
       "       [[246, 245, 247],\n",
       "        [246, 245, 247],\n",
       "        [246, 245, 247],\n",
       "        ...,\n",
       "        [244, 243, 245],\n",
       "        [244, 243, 245],\n",
       "        [244, 243, 245]],\n",
       "\n",
       "       [[246, 245, 247],\n",
       "        [246, 245, 247],\n",
       "        [245, 244, 246],\n",
       "        ...,\n",
       "        [244, 243, 245],\n",
       "        [244, 243, 245],\n",
       "        [244, 243, 245]],\n",
       "\n",
       "       ...,\n",
       "\n",
       "       [[230, 232, 232],\n",
       "        [233, 233, 233],\n",
       "        [233, 233, 233],\n",
       "        ...,\n",
       "        [232, 231, 233],\n",
       "        [232, 231, 233],\n",
       "        [233, 232, 234]],\n",
       "\n",
       "       [[232, 232, 232],\n",
       "        [232, 232, 232],\n",
       "        [232, 232, 232],\n",
       "        ...,\n",
       "        [231, 230, 232],\n",
       "        [229, 231, 232],\n",
       "        [231, 230, 232]],\n",
       "\n",
       "       [[234, 230, 235],\n",
       "        [235, 232, 234],\n",
       "        [233, 232, 234],\n",
       "        ...,\n",
       "        [230, 229, 231],\n",
       "        [227, 229, 229],\n",
       "        [226, 228, 228]]], dtype=uint8)"
      ]
     },
     "execution_count": 15,
     "metadata": {},
     "output_type": "execute_result"
    }
   ],
   "source": [
    "image # 내가 가져온 이미지 색갈 필셀 BRG = BLUE GREEN RED"
   ]
  },
  {
   "cell_type": "code",
   "execution_count": 9,
   "id": "fcc3eae3",
   "metadata": {},
   "outputs": [
    {
     "name": "stdout",
     "output_type": "stream",
     "text": [
      "Both x and y are positive.\n"
     ]
    }
   ],
   "source": [
    "x = 5\n",
    "y=10\n",
    "\n",
    "if x>0 or y>0:\n",
    "    print(\"Both x and y are positive.\") # 긍정적\n",
    "else:\n",
    "    print('negative') # 부정적"
   ]
  },
  {
   "cell_type": "code",
   "execution_count": 10,
   "id": "9e512cc3",
   "metadata": {},
   "outputs": [
    {
     "name": "stdout",
     "output_type": "stream",
     "text": [
      "it`s raining\n"
     ]
    }
   ],
   "source": [
    "is_raining = True\n",
    "\n",
    "if not is_raining:\n",
    "    print(\"It`s not raining.\")\n",
    "else:\n",
    "    print(\"it`s raining\")"
   ]
  },
  {
   "cell_type": "code",
   "execution_count": null,
   "id": "628ad887",
   "metadata": {},
   "outputs": [],
   "source": [
    "import numpy as np\n",
    "import cv2\n",
    "\n",
    "# 이미지 크기 설정\n",
    "width = 400\n",
    "height = 300\n",
    "\n",
    "# 붉은색을 나타내는 numpy 메일 생성\n",
    "red_color = np.full((height, width,3),(0,0,255), dtype=np.uint8)\n",
    "\n",
    "# 이미지 윈도우에 표시\n",
    "cv2.imshow('Red Image', red_color)\n",
    "cv2.waitKey(0)\n",
    "cv2.destroyAllwindows()"
   ]
  }
 ],
 "metadata": {
  "kernelspec": {
   "display_name": "Python 3 (ipykernel)",
   "language": "python",
   "name": "python3"
  },
  "language_info": {
   "codemirror_mode": {
    "name": "ipython",
    "version": 3
   },
   "file_extension": ".py",
   "mimetype": "text/x-python",
   "name": "python",
   "nbconvert_exporter": "python",
   "pygments_lexer": "ipython3",
   "version": "3.10.9"
  }
 },
 "nbformat": 4,
 "nbformat_minor": 5
}
