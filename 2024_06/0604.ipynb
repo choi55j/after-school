{
 "cells": [
  {
   "cell_type": "code",
   "execution_count": 72,
   "id": "27a5e2e0",
   "metadata": {},
   "outputs": [],
   "source": [
    "def deaching(a):\n",
    "    for i in range(len(a)//2):\n",
    "        if a[i]!=a[-1-i]:\n",
    "             print('대칭이 아닙니다')\n",
    "        else:\n",
    "            print('대칭입니다')"
   ]
  },
  {
   "cell_type": "code",
   "execution_count": 62,
   "id": "3315f65d",
   "metadata": {
    "scrolled": true
   },
   "outputs": [
    {
     "name": "stdout",
     "output_type": "stream",
     "text": [
      "대칭입니다\n",
      "대칭입니다\n"
     ]
    }
   ],
   "source": [
    "deaching(\"level\")"
   ]
  },
  {
   "cell_type": "code",
   "execution_count": 46,
   "id": "c2b7857e",
   "metadata": {
    "scrolled": true
   },
   "outputs": [
    {
     "name": "stdout",
     "output_type": "stream",
     "text": [
      "단어를 입력하세여 : level\n",
      "True\n"
     ]
    }
   ],
   "source": [
    "word = input('단어를 입력하세여 : ')\n",
    "\n",
    "is_palindrome = True\n",
    "for i in range(len(word) // 2):\n",
    "    if word[i] != word[-1 -i]:\n",
    "        is_palindrome = False\n",
    "        break\n",
    "print(is_palindrome)"
   ]
  },
  {
   "cell_type": "code",
   "execution_count": 35,
   "id": "2a7e5f02",
   "metadata": {},
   "outputs": [
    {
     "name": "stdout",
     "output_type": "stream",
     "text": [
      "단어를 입력하세여 : level\n",
      "level"
     ]
    }
   ],
   "source": [
    "word = input('단어를 입력하세여 : ')\n",
    "\n",
    "l = len(word)\n",
    "\n",
    "for i in range(l):\n",
    "    print(word[i],end='')"
   ]
  },
  {
   "cell_type": "code",
   "execution_count": 60,
   "id": "839b4617",
   "metadata": {
    "scrolled": false
   },
   "outputs": [
    {
     "name": "stdout",
     "output_type": "stream",
     "text": [
      "reverse할 글자를 입력하셍요abc\n",
      "cba\n"
     ]
    }
   ],
   "source": [
    "a = input('reverse할 글자를 입력하셍요')\n",
    "print(a[::-1])"
   ]
  },
  {
   "cell_type": "code",
   "execution_count": 74,
   "id": "6bd2c818",
   "metadata": {},
   "outputs": [
    {
     "name": "stdout",
     "output_type": "stream",
     "text": [
      "단어를 입력하세요 : level\n",
      "True\n"
     ]
    }
   ],
   "source": [
    "word = input('단어를 입력하세요 : ')\n",
    "if word == word[::-1]:\n",
    "    print('True')\n",
    "else:\n",
    "    print('false')"
   ]
  },
  {
   "cell_type": "code",
   "execution_count": 75,
   "id": "1ade097f",
   "metadata": {},
   "outputs": [
    {
     "name": "stdout",
     "output_type": "stream",
     "text": [
      "False\n"
     ]
    }
   ],
   "source": [
    "word = 'hello'\n",
    "\n",
    "if(list(word) == list(reversed(word))):\n",
    "    print('True')\n",
    "else:\n",
    "    print('False')"
   ]
  },
  {
   "cell_type": "code",
   "execution_count": 77,
   "id": "09d0c11a",
   "metadata": {
    "scrolled": true
   },
   "outputs": [
    {
     "name": "stdout",
     "output_type": "stream",
     "text": [
      "2\n",
      "4\n",
      "6\n",
      "8\n",
      "10\n",
      "12\n",
      "14\n",
      "16\n",
      "18\n",
      "20\n",
      "22\n",
      "24\n",
      "26\n",
      "28\n",
      "30\n",
      "32\n",
      "34\n",
      "36\n",
      "38\n",
      "40\n",
      "42\n",
      "44\n",
      "46\n",
      "48\n",
      "50\n",
      "52\n",
      "54\n",
      "56\n",
      "58\n",
      "60\n",
      "62\n",
      "64\n",
      "66\n",
      "68\n",
      "70\n",
      "72\n",
      "74\n",
      "76\n",
      "78\n",
      "80\n",
      "82\n",
      "84\n",
      "86\n",
      "88\n",
      "90\n",
      "92\n",
      "94\n",
      "96\n",
      "98\n",
      "100\n"
     ]
    }
   ],
   "source": [
    "for i in range(1,100+1):\n",
    "    if i%2==0:\n",
    "        print(i)"
   ]
  },
  {
   "cell_type": "code",
   "execution_count": 79,
   "id": "c3c5f46a",
   "metadata": {
    "scrolled": true
   },
   "outputs": [
    {
     "name": "stdout",
     "output_type": "stream",
     "text": [
      "숫자를 하시오10 20\n",
      "10\n",
      "12\n",
      "14\n",
      "16\n",
      "18\n",
      "20\n"
     ]
    }
   ],
   "source": [
    "a,b = map(int,input('시작 끝을 입력하시오').split())\n",
    "for i in range(a,b+1):\n",
    "    if i%2==0:\n",
    "        print(i)"
   ]
  },
  {
   "cell_type": "markdown",
   "id": "d685b79d",
   "metadata": {},
   "source": [
    "# continue = 건너뛰다"
   ]
  },
  {
   "cell_type": "code",
   "execution_count": 82,
   "id": "fc082798",
   "metadata": {
    "scrolled": true
   },
   "outputs": [
    {
     "name": "stdout",
     "output_type": "stream",
     "text": [
      "2\n",
      "4\n",
      "6\n",
      "8\n",
      "10\n",
      "12\n",
      "14\n",
      "16\n",
      "18\n",
      "20\n",
      "22\n",
      "24\n",
      "26\n",
      "28\n",
      "30\n",
      "32\n",
      "34\n",
      "36\n",
      "38\n",
      "40\n",
      "42\n",
      "44\n",
      "46\n",
      "48\n",
      "50\n",
      "52\n",
      "54\n",
      "56\n",
      "58\n",
      "60\n",
      "62\n",
      "64\n",
      "66\n",
      "68\n",
      "70\n",
      "72\n",
      "74\n",
      "76\n",
      "78\n",
      "80\n",
      "82\n",
      "84\n",
      "86\n",
      "88\n",
      "90\n",
      "92\n",
      "94\n",
      "96\n",
      "98\n",
      "100\n"
     ]
    }
   ],
   "source": [
    "for i in range(1,100+1):\n",
    "    if i%2==1:\n",
    "        continue\n",
    "    else:\n",
    "        print(i)"
   ]
  },
  {
   "cell_type": "code",
   "execution_count": null,
   "id": "dd94697c",
   "metadata": {},
   "outputs": [],
   "source": []
  }
 ],
 "metadata": {
  "kernelspec": {
   "display_name": "Python 3 (ipykernel)",
   "language": "python",
   "name": "python3"
  },
  "language_info": {
   "codemirror_mode": {
    "name": "ipython",
    "version": 3
   },
   "file_extension": ".py",
   "mimetype": "text/x-python",
   "name": "python",
   "nbconvert_exporter": "python",
   "pygments_lexer": "ipython3",
   "version": "3.10.9"
  }
 },
 "nbformat": 4,
 "nbformat_minor": 5
}
