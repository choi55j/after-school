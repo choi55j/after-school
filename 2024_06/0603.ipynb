{
 "cells": [
  {
   "cell_type": "code",
   "execution_count": 10,
   "id": "b3ee5357",
   "metadata": {},
   "outputs": [],
   "source": [
    "import numpy as np"
   ]
  },
  {
   "cell_type": "code",
   "execution_count": 1,
   "id": "bf9484ca",
   "metadata": {},
   "outputs": [],
   "source": [
    "data = {'name':['Alice','Bod','Charlie','David','Eva'], 'Age':[25,30,35,40,45], 'Score':[85,90,95,80,70]}"
   ]
  },
  {
   "cell_type": "code",
   "execution_count": 6,
   "id": "f8d67d8f",
   "metadata": {},
   "outputs": [],
   "source": [
    "a=data['Age']\n",
    "b=data['Score']"
   ]
  },
  {
   "cell_type": "code",
   "execution_count": 19,
   "id": "bbb16d92",
   "metadata": {},
   "outputs": [
    {
     "name": "stdout",
     "output_type": "stream",
     "text": [
      "Age의 평균은 35.0이고, 중앙값은 35.0, 최소값은 25, 최대값은 45, 표준편차는 7.0710678118654755\n",
      "Score의 평균은 84.0이고, 중앙값은 85.0, 최소값은 70, 최대값은 95, 표준편차는 8.602325267042627\n"
     ]
    }
   ],
   "source": [
    "print(f'Age의 평균은 {np.mean(a)}이고, 중앙값은 {np.median(a)}, 최소값은 {min(a)}, 최대값은 {max(a)}, 표준편차는 {np.std(a)}')\n",
    "print(f'Score의 평균은 {np.mean(b)}이고, 중앙값은 {np.median(b)}, 최소값은 {min(b)}, 최대값은 {max(b)}, 표준편차는 {np.std(b)}')"
   ]
  },
  {
   "cell_type": "code",
   "execution_count": 40,
   "id": "2baa32a8",
   "metadata": {},
   "outputs": [],
   "source": [
    "import pandas as pd\n",
    "import matplotlib.pyplot as plt\n",
    "import seaborn as sns"
   ]
  },
  {
   "cell_type": "code",
   "execution_count": 51,
   "id": "f2f5438b",
   "metadata": {
    "scrolled": true
   },
   "outputs": [
    {
     "data": {
      "text/plain": [
       "{'Name': ['Alice', 'Alice', 'Bod', 'Charlie', 'David', 'Eva'],\n",
       " 'Age': [23, 25, 30, 50, 40, 45],\n",
       " 'Score': [83, 85, 90, 95, 80, 70]}"
      ]
     },
     "execution_count": 51,
     "metadata": {},
     "output_type": "execute_result"
    }
   ],
   "source": [
    "date = {'Name':['Alice','Alice','Bod','Charlie','David','Eva'], 'Age':[23,25,30,50,40,45], 'Score':[83,85,90,95,80,70]}\n",
    "date"
   ]
  },
  {
   "cell_type": "code",
   "execution_count": 52,
   "id": "b7c0a08f",
   "metadata": {},
   "outputs": [
    {
     "data": {
      "text/html": [
       "<div>\n",
       "<style scoped>\n",
       "    .dataframe tbody tr th:only-of-type {\n",
       "        vertical-align: middle;\n",
       "    }\n",
       "\n",
       "    .dataframe tbody tr th {\n",
       "        vertical-align: top;\n",
       "    }\n",
       "\n",
       "    .dataframe thead th {\n",
       "        text-align: right;\n",
       "    }\n",
       "</style>\n",
       "<table border=\"1\" class=\"dataframe\">\n",
       "  <thead>\n",
       "    <tr style=\"text-align: right;\">\n",
       "      <th></th>\n",
       "      <th>Age</th>\n",
       "      <th>Score</th>\n",
       "    </tr>\n",
       "  </thead>\n",
       "  <tbody>\n",
       "    <tr>\n",
       "      <th>count</th>\n",
       "      <td>6.000000</td>\n",
       "      <td>6.000000</td>\n",
       "    </tr>\n",
       "    <tr>\n",
       "      <th>mean</th>\n",
       "      <td>35.500000</td>\n",
       "      <td>83.833333</td>\n",
       "    </tr>\n",
       "    <tr>\n",
       "      <th>std</th>\n",
       "      <td>11.113055</td>\n",
       "      <td>8.612007</td>\n",
       "    </tr>\n",
       "    <tr>\n",
       "      <th>min</th>\n",
       "      <td>23.000000</td>\n",
       "      <td>70.000000</td>\n",
       "    </tr>\n",
       "    <tr>\n",
       "      <th>25%</th>\n",
       "      <td>26.250000</td>\n",
       "      <td>80.750000</td>\n",
       "    </tr>\n",
       "    <tr>\n",
       "      <th>50%</th>\n",
       "      <td>35.000000</td>\n",
       "      <td>84.000000</td>\n",
       "    </tr>\n",
       "    <tr>\n",
       "      <th>75%</th>\n",
       "      <td>43.750000</td>\n",
       "      <td>88.750000</td>\n",
       "    </tr>\n",
       "    <tr>\n",
       "      <th>max</th>\n",
       "      <td>50.000000</td>\n",
       "      <td>95.000000</td>\n",
       "    </tr>\n",
       "  </tbody>\n",
       "</table>\n",
       "</div>"
      ],
      "text/plain": [
       "             Age      Score\n",
       "count   6.000000   6.000000\n",
       "mean   35.500000  83.833333\n",
       "std    11.113055   8.612007\n",
       "min    23.000000  70.000000\n",
       "25%    26.250000  80.750000\n",
       "50%    35.000000  84.000000\n",
       "75%    43.750000  88.750000\n",
       "max    50.000000  95.000000"
      ]
     },
     "execution_count": 52,
     "metadata": {},
     "output_type": "execute_result"
    }
   ],
   "source": [
    "df = pd.DataFrame(date)\n",
    "\n",
    "# 데이터 프레임의 기본 통계 출력\n",
    "df.describe()\n",
    "# EDA (Exploratory Data Anallysis)"
   ]
  },
  {
   "cell_type": "code",
   "execution_count": 53,
   "id": "fc58b360",
   "metadata": {},
   "outputs": [
    {
     "data": {
      "text/html": [
       "<div>\n",
       "<style scoped>\n",
       "    .dataframe tbody tr th:only-of-type {\n",
       "        vertical-align: middle;\n",
       "    }\n",
       "\n",
       "    .dataframe tbody tr th {\n",
       "        vertical-align: top;\n",
       "    }\n",
       "\n",
       "    .dataframe thead th {\n",
       "        text-align: right;\n",
       "    }\n",
       "</style>\n",
       "<table border=\"1\" class=\"dataframe\">\n",
       "  <thead>\n",
       "    <tr style=\"text-align: right;\">\n",
       "      <th></th>\n",
       "      <th>Name</th>\n",
       "      <th>Age</th>\n",
       "      <th>Score</th>\n",
       "    </tr>\n",
       "  </thead>\n",
       "  <tbody>\n",
       "    <tr>\n",
       "      <th>0</th>\n",
       "      <td>Alice</td>\n",
       "      <td>23</td>\n",
       "      <td>83</td>\n",
       "    </tr>\n",
       "    <tr>\n",
       "      <th>1</th>\n",
       "      <td>Alice</td>\n",
       "      <td>25</td>\n",
       "      <td>85</td>\n",
       "    </tr>\n",
       "    <tr>\n",
       "      <th>2</th>\n",
       "      <td>Bod</td>\n",
       "      <td>30</td>\n",
       "      <td>90</td>\n",
       "    </tr>\n",
       "    <tr>\n",
       "      <th>3</th>\n",
       "      <td>Charlie</td>\n",
       "      <td>50</td>\n",
       "      <td>95</td>\n",
       "    </tr>\n",
       "    <tr>\n",
       "      <th>4</th>\n",
       "      <td>David</td>\n",
       "      <td>40</td>\n",
       "      <td>80</td>\n",
       "    </tr>\n",
       "    <tr>\n",
       "      <th>5</th>\n",
       "      <td>Eva</td>\n",
       "      <td>45</td>\n",
       "      <td>70</td>\n",
       "    </tr>\n",
       "  </tbody>\n",
       "</table>\n",
       "</div>"
      ],
      "text/plain": [
       "      Name  Age  Score\n",
       "0    Alice   23     83\n",
       "1    Alice   25     85\n",
       "2      Bod   30     90\n",
       "3  Charlie   50     95\n",
       "4    David   40     80\n",
       "5      Eva   45     70"
      ]
     },
     "execution_count": 53,
     "metadata": {},
     "output_type": "execute_result"
    }
   ],
   "source": [
    "df.groupby('Name')\n",
    "df"
   ]
  },
  {
   "cell_type": "code",
   "execution_count": 65,
   "id": "45054502",
   "metadata": {},
   "outputs": [
    {
     "data": {
      "text/plain": [
       "<Axes: title={'center': 'Scores by Name'}, xlabel='Name'>"
      ]
     },
     "execution_count": 65,
     "metadata": {},
     "output_type": "execute_result"
    },
    {
     "data": {
      "image/png": "[encoded data removed]",
      "text/plain": [
       "<Figure size 640x480 with 1 Axes>"
      ]
     },
     "metadata": {},
     "output_type": "display_data"
    }
   ],
   "source": [
    "df.plot(kind='bar', x='Name',y='Score', title='Scores by Name')"
   ]
  },
  {
   "cell_type": "code",
   "execution_count": 74,
   "id": "28f23220",
   "metadata": {},
   "outputs": [
    {
     "data": {
      "text/plain": [
       "<Axes: title={'center': 'Scores by Name'}, xlabel='Name'>"
      ]
     },
     "execution_count": 74,
     "metadata": {},
     "output_type": "execute_result"
    },
    {
     "data": {
      "image/png": "[encoded data removed]",
      "text/plain": [
       "<Figure size 640x480 with 1 Axes>"
      ]
     },
     "metadata": {},
     "output_type": "display_data"
    }
   ],
   "source": [
    "df.sort_values(by='Score',ascending=False).plot(kind='bar', x='Name',y='Score', title='Scores by Name')"
   ]
  },
  {
   "cell_type": "code",
   "execution_count": 76,
   "id": "4bf9e3ec",
   "metadata": {},
   "outputs": [],
   "source": [
    "df_sorted = df.sort_values(by='Score', ascending=True)"
   ]
  },
  {
   "cell_type": "code",
   "execution_count": 77,
   "id": "16acfad3",
   "metadata": {},
   "outputs": [
    {
     "name": "stdout",
     "output_type": "stream",
     "text": [
      "\n",
      "New DataFrame: \n",
      "      Name  Age  Score\n",
      "0      Eva   45     70\n",
      "1    David   40     80\n",
      "2    Alice   23     83\n",
      "3    Alice   25     85\n",
      "4      Bod   30     90\n",
      "5  Charlie   50     95\n"
     ]
    }
   ],
   "source": [
    "new_df = df_sorted.reset_index(drop=True)\n",
    "print(\"\\nNew DataFrame: \")\n",
    "print(new_df)"
   ]
  }
 ],
 "metadata": {
  "kernelspec": {
   "display_name": "Python 3 (ipykernel)",
   "language": "python",
   "name": "python3"
  },
  "language_info": {
   "codemirror_mode": {
    "name": "ipython",
    "version": 3
   },
   "file_extension": ".py",
   "mimetype": "text/x-python",
   "name": "python",
   "nbconvert_exporter": "python",
   "pygments_lexer": "ipython3",
   "version": "3.10.9"
  }
 },
 "nbformat": 4,
 "nbformat_minor": 5
}
