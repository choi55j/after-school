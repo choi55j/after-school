{
 "cells": [
  {
   "cell_type": "code",
   "execution_count": 1,
   "id": "5a794e60",
   "metadata": {},
   "outputs": [],
   "source": [
    "def get_weather(nx,ny):\n",
    "    \n",
    "    params = {\n",
    "        'serviceKey': api_key,\n",
    "        'numOfRows': '10',\n",
    "        'pageNo': '1',\n",
    "        'dataType': 'JSON',\n",
    "        'base_date': '20240611',  # 기준 날짜 (YYYYMMDD)\n",
    "        'base_time': '0500',      # 기준 시간 (HHMM)\n",
    "        'nx': nx,               # 격자 X 좌표\n",
    "        'ny': ny               # 격자 Y 좌표\n",
    "    }\n",
    "    \n",
    "    response = requests.get(url, params=params)\n",
    "    \n",
    "    if response.status_code == 200:\n",
    "        data = response.json()\n",
    "        if data != None:\n",
    "            items = data['response']['body']['items']['item']\n",
    "        \n",
    "            # 데이터를 출력합니다.\n",
    "            for item in items:\n",
    "                print(f\"예보일자: {item['fcstDate']}, 예보시간: {item['fcstTime']}, 예보값: {item['fcstValue']}, 카테고리: {item['category']}\")\n",
    "        else:\n",
    "            return print(f\"Error: {response.status_code}\")\n",
    "    \n",
    "    else:\n",
    "        print(f\"Error: {response.status_code}\")"
   ]
  },
  {
   "cell_type": "code",
   "execution_count": 5,
   "id": "5393683a",
   "metadata": {},
   "outputs": [],
   "source": [
    "def get_lat_lon(address):\n",
    "    # Nominatim API의 엔드포인트 URL을 구성합니다.\n",
    "    url = \"https://nominatim.openstreetmap.org/search\"\n",
    "    \n",
    "    # 요청할 파라미터를 설정합니다.\n",
    "    params = {\n",
    "        'q': address,\n",
    "        'format': 'json'\n",
    "    }\n",
    "    \n",
    "    # API 요청을 보냅니다.\n",
    "    response = requests.get(url, params=params)\n",
    "    \n",
    "    # 응답이 성공적인지 확인합니다.\n",
    "    if response.status_code == 200:\n",
    "        data = response.json()\n",
    "        if data:\n",
    "            # 첫 번째 결과를 사용합니다.\n",
    "            latitude = data[0].get('lat', 'N/A')\n",
    "            longitude = data[0].get('lon', 'N/A')\n",
    "            return latitude, longitude\n",
    "        else:\n",
    "            return \"N/A\", \"N/A\"\n",
    "    else:\n",
    "        return f\"Error: {response.status_code}\""
   ]
  },
  {
   "cell_type": "code",
   "execution_count": 6,
   "id": "5207d781",
   "metadata": {},
   "outputs": [
    {
     "ename": "ValueError",
     "evalue": "too many values to unpack (expected 2)",
     "output_type": "error",
     "traceback": [
      "\u001b[1;31m---------------------------------------------------------------------------\u001b[0m",
      "\u001b[1;31mValueError\u001b[0m                                Traceback (most recent call last)",
      "Cell \u001b[1;32mIn[6], line 5\u001b[0m\n\u001b[0;32m      2\u001b[0m address \u001b[38;5;241m=\u001b[39m \u001b[38;5;124m\"\u001b[39m\u001b[38;5;124m경기도 성남시 분당구 성남대로 601\u001b[39m\u001b[38;5;124m\"\u001b[39m\n\u001b[0;32m      4\u001b[0m \u001b[38;5;66;03m# 위도와 경도를 가져옵니다.\u001b[39;00m\n\u001b[1;32m----> 5\u001b[0m latitude, longitude \u001b[38;5;241m=\u001b[39m get_lat_lon(address)\n\u001b[0;32m      6\u001b[0m \u001b[38;5;28mprint\u001b[39m(\u001b[38;5;124mf\u001b[39m\u001b[38;5;124m\"\u001b[39m\u001b[38;5;124mLatitude: \u001b[39m\u001b[38;5;132;01m{\u001b[39;00mlatitude\u001b[38;5;132;01m}\u001b[39;00m\u001b[38;5;124m, Longitude: \u001b[39m\u001b[38;5;132;01m{\u001b[39;00mlongitude\u001b[38;5;132;01m}\u001b[39;00m\u001b[38;5;124m\"\u001b[39m)\n\u001b[0;32m      8\u001b[0m latitude\u001b[38;5;241m=\u001b[39m \u001b[38;5;28mfloat\u001b[39m(latitude)\n",
      "\u001b[1;31mValueError\u001b[0m: too many values to unpack (expected 2)"
     ]
    }
   ],
   "source": [
    "# 예시 주소를 입력합니다.\n",
    "address = \"경기도 성남시 분당구 성남대로 601\"\n",
    "\n",
    "# 위도와 경도를 가져옵니다.\n",
    "latitude, longitude = get_lat_lon(address)\n",
    "print(f\"Latitude: {latitude}, Longitude: {longitude}\")\n",
    "\n",
    "latitude= float(latitude)\n",
    "longitude = float(longitude)\n",
    "\n",
    "print(type(latitude))\n",
    "get_weather(int(latitude),int(longitude))"
   ]
  },
  {
   "cell_type": "code",
   "execution_count": 4,
   "id": "49dde3a3",
   "metadata": {},
   "outputs": [
    {
     "ename": "Exception",
     "evalue": "Geocoding API error: REQUEST_DENIED",
     "output_type": "error",
     "traceback": [
      "\u001b[1;31m---------------------------------------------------------------------------\u001b[0m",
      "\u001b[1;31mException\u001b[0m                                 Traceback (most recent call last)",
      "Cell \u001b[1;32mIn[4], line 24\u001b[0m\n\u001b[0;32m     22\u001b[0m api_key \u001b[38;5;241m=\u001b[39m \u001b[38;5;124m'\u001b[39m\u001b[38;5;124m구글 멥 키 정보\u001b[39m\u001b[38;5;124m'\u001b[39m\n\u001b[0;32m     23\u001b[0m address \u001b[38;5;241m=\u001b[39m \u001b[38;5;124m'\u001b[39m\u001b[38;5;124m서울특별시 종로구 종로1가\u001b[39m\u001b[38;5;124m'\u001b[39m\n\u001b[1;32m---> 24\u001b[0m latitude, longitude \u001b[38;5;241m=\u001b[39m \u001b[43mget_lat_lng\u001b[49m\u001b[43m(\u001b[49m\u001b[43maddress\u001b[49m\u001b[43m,\u001b[49m\u001b[43m \u001b[49m\u001b[43mapi_key\u001b[49m\u001b[43m)\u001b[49m\n\u001b[0;32m     25\u001b[0m \u001b[38;5;28mprint\u001b[39m(\u001b[38;5;124mf\u001b[39m\u001b[38;5;124m\"\u001b[39m\u001b[38;5;124mLatitude: \u001b[39m\u001b[38;5;132;01m{\u001b[39;00mlatitude\u001b[38;5;132;01m}\u001b[39;00m\u001b[38;5;124m, Longitude: \u001b[39m\u001b[38;5;132;01m{\u001b[39;00mlongitude\u001b[38;5;132;01m}\u001b[39;00m\u001b[38;5;124m\"\u001b[39m)\n",
      "Cell \u001b[1;32mIn[4], line 17\u001b[0m, in \u001b[0;36mget_lat_lng\u001b[1;34m(address, api_key)\u001b[0m\n\u001b[0;32m     15\u001b[0m         \u001b[38;5;28;01mreturn\u001b[39;00m geometry[\u001b[38;5;124m'\u001b[39m\u001b[38;5;124mlat\u001b[39m\u001b[38;5;124m'\u001b[39m], geometry[\u001b[38;5;124m'\u001b[39m\u001b[38;5;124mlng\u001b[39m\u001b[38;5;124m'\u001b[39m]\n\u001b[0;32m     16\u001b[0m     \u001b[38;5;28;01melse\u001b[39;00m:\n\u001b[1;32m---> 17\u001b[0m         \u001b[38;5;28;01mraise\u001b[39;00m \u001b[38;5;167;01mException\u001b[39;00m(\u001b[38;5;124mf\u001b[39m\u001b[38;5;124m\"\u001b[39m\u001b[38;5;124mGeocoding API error: \u001b[39m\u001b[38;5;132;01m{\u001b[39;00mdata[\u001b[38;5;124m'\u001b[39m\u001b[38;5;124mstatus\u001b[39m\u001b[38;5;124m'\u001b[39m]\u001b[38;5;132;01m}\u001b[39;00m\u001b[38;5;124m\"\u001b[39m)\n\u001b[0;32m     18\u001b[0m \u001b[38;5;28;01melse\u001b[39;00m:\n\u001b[0;32m     19\u001b[0m     \u001b[38;5;28;01mraise\u001b[39;00m \u001b[38;5;167;01mException\u001b[39;00m(\u001b[38;5;124mf\u001b[39m\u001b[38;5;124m\"\u001b[39m\u001b[38;5;124mRequest error: \u001b[39m\u001b[38;5;132;01m{\u001b[39;00mresponse\u001b[38;5;241m.\u001b[39mstatus_code\u001b[38;5;132;01m}\u001b[39;00m\u001b[38;5;124m\"\u001b[39m)\n",
      "\u001b[1;31mException\u001b[0m: Geocoding API error: REQUEST_DENIED"
     ]
    }
   ],
   "source": [
    "import requests\n",
    "\n",
    "def get_lat_lng(address, api_key):\n",
    "    base_url = 'https://maps.googleapis.com/maps/api/geocode/json'\n",
    "    params = {\n",
    "        'address': address,\n",
    "        'key': api_key\n",
    "    }\n",
    "    response = requests.get(base_url, params=params)\n",
    "    \n",
    "    if response.status_code == 200:\n",
    "        data = response.json()\n",
    "        if data['status'] == 'OK':\n",
    "            geometry = data['results'][0]['geometry']['location']\n",
    "            return geometry['lat'], geometry['lng']\n",
    "        else:\n",
    "            raise Exception(f\"Geocoding API error: {data['status']}\")\n",
    "    else:\n",
    "        raise Exception(f\"Request error: {response.status_code}\")\n",
    "\n",
    "# Example usage:\n",
    "api_key = '구글 멥 키 정보'\n",
    "address = '서울특별시 종로구 종로1가'\n",
    "latitude, longitude = get_lat_lng(address, api_key)\n",
    "print(f\"Latitude: {latitude}, Longitude: {longitude}\")"
   ]
  },
  {
   "cell_type": "code",
   "execution_count": null,
   "id": "a530a734",
   "metadata": {},
   "outputs": [],
   "source": []
  }
 ],
 "metadata": {
  "kernelspec": {
   "display_name": "Python 3 (ipykernel)",
   "language": "python",
   "name": "python3"
  },
  "language_info": {
   "codemirror_mode": {
    "name": "ipython",
    "version": 3
   },
   "file_extension": ".py",
   "mimetype": "text/x-python",
   "name": "python",
   "nbconvert_exporter": "python",
   "pygments_lexer": "ipython3",
   "version": "3.10.9"
  }
 },
 "nbformat": 4,
 "nbformat_minor": 5
}
